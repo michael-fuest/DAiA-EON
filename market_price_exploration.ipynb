{
 "cells": [
  {
   "cell_type": "code",
   "execution_count": 1,
   "metadata": {},
   "outputs": [],
   "source": [
    "import pandas as pd\n",
    "import numpy as np\n",
    "import matplotlib.pyplot as plt\n",
    "import seaborn as sns\n",
    "import os\n"
   ]
  },
  {
   "cell_type": "code",
   "execution_count": 2,
   "metadata": {},
   "outputs": [],
   "source": [
    "path = \"./data/\"\n",
    "base = \"eex_power_base_\"\n",
    "peak = \"eex_power_peak_\"\n",
    "periods = [\"d\", \"w\", \"wkd\", \"m\", \"q\", \"y\"]\n",
    "csv = \".csv\"\n",
    "spot = \"epex_spot_power.csv\""
   ]
  },
  {
   "cell_type": "code",
   "execution_count": 21,
   "metadata": {},
   "outputs": [],
   "source": [
    "df_base = pd.read_csv(path+spot, header = 0, parse_dates=[0], skiprows= lambda i: i>1932*24)"
   ]
  },
  {
   "cell_type": "code",
   "execution_count": 22,
   "metadata": {},
   "outputs": [
    {
     "name": "stderr",
     "output_type": "stream",
     "text": [
      "/tmp/ipykernel_5821/2474838109.py:1: FutureWarning: The default value of numeric_only in DataFrameGroupBy.mean is deprecated. In a future version, numeric_only will default to False. Either specify numeric_only or select only columns which should be valid for the function.\n",
      "  df_base = df_base.groupby(df_base[\"time\"].dt.date).mean().reset_index()\n"
     ]
    }
   ],
   "source": [
    "df_base = df_base.groupby(df_base[\"time\"].dt.date).mean().reset_index()"
   ]
  },
  {
   "cell_type": "code",
   "execution_count": 23,
   "metadata": {},
   "outputs": [],
   "source": [
    "df_base.columns = [\"date\",\"spot\"]"
   ]
  },
  {
   "cell_type": "code",
   "execution_count": 20,
   "metadata": {},
   "outputs": [],
   "source": [
    "#df_base = df_base[::-1]"
   ]
  },
  {
   "cell_type": "code",
   "execution_count": 24,
   "metadata": {},
   "outputs": [
    {
     "ename": "TypeError",
     "evalue": "join() got multiple values for argument 'on'",
     "output_type": "error",
     "traceback": [
      "\u001b[0;31m---------------------------------------------------------------------------\u001b[0m",
      "\u001b[0;31mTypeError\u001b[0m                                 Traceback (most recent call last)",
      "Cell \u001b[0;32mIn[24], line 2\u001b[0m\n\u001b[1;32m      1\u001b[0m \u001b[39mfor\u001b[39;00m period \u001b[39min\u001b[39;00m periods:\n\u001b[0;32m----> 2\u001b[0m     df_base \u001b[39m=\u001b[39m df_base\u001b[39m.\u001b[39;49mjoin(df_base, pd\u001b[39m.\u001b[39;49mread_csv(path \u001b[39m+\u001b[39;49m base \u001b[39m+\u001b[39;49m period \u001b[39m+\u001b[39;49m csv, header\u001b[39m=\u001b[39;49m\u001b[39m0\u001b[39;49m, parse_dates \u001b[39m=\u001b[39;49m [\u001b[39m0\u001b[39;49m]), how \u001b[39m=\u001b[39;49m \u001b[39m\"\u001b[39;49m\u001b[39minner\u001b[39;49m\u001b[39m\"\u001b[39;49m,  on\u001b[39m=\u001b[39;49m\u001b[39m\"\u001b[39;49m\u001b[39mdate\u001b[39;49m\u001b[39m\"\u001b[39;49m)\n",
      "\u001b[0;31mTypeError\u001b[0m: join() got multiple values for argument 'on'"
     ]
    }
   ],
   "source": [
    "for period in periods:\n",
    "    df_base = df_base.join(df_base, pd.read_csv(path + base + period + csv, header=0, parse_dates = [0]), how = \"inner\",  on=\"date\")"
   ]
  },
  {
   "cell_type": "code",
   "execution_count": 64,
   "metadata": {},
   "outputs": [],
   "source": [
    "test = pd.read_csv(path + base + period + csv, header=0, parse_dates = [0])"
   ]
  },
  {
   "cell_type": "code",
   "execution_count": 67,
   "metadata": {},
   "outputs": [
    {
     "data": {
      "text/plain": [
       "datetime.date(2022, 10, 14)"
      ]
     },
     "execution_count": 67,
     "metadata": {},
     "output_type": "execute_result"
    }
   ],
   "source": [
    "df_base.iloc[0,0]"
   ]
  },
  {
   "cell_type": "code",
   "execution_count": null,
   "metadata": {},
   "outputs": [],
   "source": []
  }
 ],
 "metadata": {
  "kernelspec": {
   "display_name": "first-env",
   "language": "python",
   "name": "python3"
  },
  "language_info": {
   "codemirror_mode": {
    "name": "ipython",
    "version": 3
   },
   "file_extension": ".py",
   "mimetype": "text/x-python",
   "name": "python",
   "nbconvert_exporter": "python",
   "pygments_lexer": "ipython3",
   "version": "3.9.15"
  },
  "orig_nbformat": 4,
  "vscode": {
   "interpreter": {
    "hash": "1adbfaa39e342c98ac6ff25648b01bcea2a38342be3cb6ac4fd601caab6c79df"
   }
  }
 },
 "nbformat": 4,
 "nbformat_minor": 2
}
