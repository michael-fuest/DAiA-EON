{
 "cells": [
  {
   "cell_type": "code",
   "execution_count": 14,
   "id": "d054957b-9bd8-42e8-8510-4784a05538e8",
   "metadata": {},
   "outputs": [],
   "source": [
    "import pandas as pd\n",
    "import numpy as np\n",
    "import matplotlib.pyplot as plt\n",
    "%matplotlib inline"
   ]
  },
  {
   "cell_type": "code",
   "execution_count": null,
   "id": "e9b076db-21f9-4ca4-b2f2-12cebb642992",
   "metadata": {},
   "outputs": [],
   "source": []
  },
  {
   "cell_type": "code",
   "execution_count": 15,
   "id": "a0f4e1fa-def2-4ee4-94a0-a4b49073d175",
   "metadata": {},
   "outputs": [],
   "source": [
    "path = \"./data/competitor_market_prices_power.csv\""
   ]
  },
  {
   "cell_type": "code",
   "execution_count": 16,
   "id": "91673a2b-8d3d-4f2a-a297-4f6360f93572",
   "metadata": {},
   "outputs": [
    {
     "data": {
      "text/html": [
       "<div>\n",
       "<style scoped>\n",
       "    .dataframe tbody tr th:only-of-type {\n",
       "        vertical-align: middle;\n",
       "    }\n",
       "\n",
       "    .dataframe tbody tr th {\n",
       "        vertical-align: top;\n",
       "    }\n",
       "\n",
       "    .dataframe thead th {\n",
       "        text-align: right;\n",
       "    }\n",
       "</style>\n",
       "<table border=\"1\" class=\"dataframe\">\n",
       "  <thead>\n",
       "    <tr style=\"text-align: right;\">\n",
       "      <th></th>\n",
       "      <th>date_valid_from</th>\n",
       "      <th>date_valid_to</th>\n",
       "      <th>rank</th>\n",
       "      <th>consumption_range_kwh</th>\n",
       "      <th>tariff</th>\n",
       "      <th>supplier</th>\n",
       "      <th>price_year_eur</th>\n",
       "      <th>post_code</th>\n",
       "      <th>city</th>\n",
       "      <th>energy</th>\n",
       "    </tr>\n",
       "  </thead>\n",
       "  <tbody>\n",
       "    <tr>\n",
       "      <th>0</th>\n",
       "      <td>2022-02-19</td>\n",
       "      <td>2022-02-20</td>\n",
       "      <td>22</td>\n",
       "      <td>2400</td>\n",
       "      <td>Nidorina</td>\n",
       "      <td>Solanus</td>\n",
       "      <td>1061.77</td>\n",
       "      <td>41751</td>\n",
       "      <td>Viersen</td>\n",
       "      <td>power</td>\n",
       "    </tr>\n",
       "    <tr>\n",
       "      <th>1</th>\n",
       "      <td>2022-02-19</td>\n",
       "      <td>2022-02-20</td>\n",
       "      <td>20</td>\n",
       "      <td>1200</td>\n",
       "      <td>Togepi</td>\n",
       "      <td>Norte</td>\n",
       "      <td>651.44</td>\n",
       "      <td>22159</td>\n",
       "      <td>Hamburg</td>\n",
       "      <td>power</td>\n",
       "    </tr>\n",
       "    <tr>\n",
       "      <th>2</th>\n",
       "      <td>2022-02-19</td>\n",
       "      <td>2022-02-20</td>\n",
       "      <td>31</td>\n",
       "      <td>3600</td>\n",
       "      <td>Grookey</td>\n",
       "      <td>Purga</td>\n",
       "      <td>1562.37</td>\n",
       "      <td>31137</td>\n",
       "      <td>Hildesheim</td>\n",
       "      <td>power</td>\n",
       "    </tr>\n",
       "    <tr>\n",
       "      <th>3</th>\n",
       "      <td>2022-02-19</td>\n",
       "      <td>2022-02-20</td>\n",
       "      <td>40</td>\n",
       "      <td>3600</td>\n",
       "      <td>Jirachi</td>\n",
       "      <td>Elvegust</td>\n",
       "      <td>1609.43</td>\n",
       "      <td>78054</td>\n",
       "      <td>Villingen-Schwenningen</td>\n",
       "      <td>power</td>\n",
       "    </tr>\n",
       "    <tr>\n",
       "      <th>4</th>\n",
       "      <td>2022-02-19</td>\n",
       "      <td>2022-02-20</td>\n",
       "      <td>15</td>\n",
       "      <td>7800</td>\n",
       "      <td>Magneton</td>\n",
       "      <td>Paramitos</td>\n",
       "      <td>3040.72</td>\n",
       "      <td>48161</td>\n",
       "      <td>Münster</td>\n",
       "      <td>power</td>\n",
       "    </tr>\n",
       "    <tr>\n",
       "      <th>5</th>\n",
       "      <td>2022-02-19</td>\n",
       "      <td>2022-02-20</td>\n",
       "      <td>14</td>\n",
       "      <td>9000</td>\n",
       "      <td>Tornadus</td>\n",
       "      <td>Bergwind</td>\n",
       "      <td>3558.20</td>\n",
       "      <td>27578</td>\n",
       "      <td>Bremerhaven</td>\n",
       "      <td>power</td>\n",
       "    </tr>\n",
       "    <tr>\n",
       "      <th>6</th>\n",
       "      <td>2022-02-19</td>\n",
       "      <td>2022-02-20</td>\n",
       "      <td>26</td>\n",
       "      <td>5500</td>\n",
       "      <td>Appletun</td>\n",
       "      <td>Helm</td>\n",
       "      <td>2203.24</td>\n",
       "      <td>78054</td>\n",
       "      <td>Villingen-Schwenningen</td>\n",
       "      <td>power</td>\n",
       "    </tr>\n",
       "    <tr>\n",
       "      <th>7</th>\n",
       "      <td>2022-02-19</td>\n",
       "      <td>2022-02-20</td>\n",
       "      <td>35</td>\n",
       "      <td>7500</td>\n",
       "      <td>Marshtomp</td>\n",
       "      <td>Favonius</td>\n",
       "      <td>3319.41</td>\n",
       "      <td>30419</td>\n",
       "      <td>Hannover</td>\n",
       "      <td>power</td>\n",
       "    </tr>\n",
       "    <tr>\n",
       "      <th>8</th>\n",
       "      <td>2022-02-19</td>\n",
       "      <td>2022-02-20</td>\n",
       "      <td>22</td>\n",
       "      <td>2000</td>\n",
       "      <td>Tsareena</td>\n",
       "      <td>Bergwind</td>\n",
       "      <td>902.32</td>\n",
       "      <td>85055</td>\n",
       "      <td>Ingolstadt</td>\n",
       "      <td>power</td>\n",
       "    </tr>\n",
       "    <tr>\n",
       "      <th>9</th>\n",
       "      <td>2022-02-19</td>\n",
       "      <td>2022-02-20</td>\n",
       "      <td>22</td>\n",
       "      <td>250</td>\n",
       "      <td>Wimpod</td>\n",
       "      <td>Wambra</td>\n",
       "      <td>234.19</td>\n",
       "      <td>14480</td>\n",
       "      <td>Potsdam</td>\n",
       "      <td>power</td>\n",
       "    </tr>\n",
       "  </tbody>\n",
       "</table>\n",
       "</div>"
      ],
      "text/plain": [
       "  date_valid_from date_valid_to  rank  consumption_range_kwh     tariff  \\\n",
       "0      2022-02-19    2022-02-20    22                   2400   Nidorina   \n",
       "1      2022-02-19    2022-02-20    20                   1200     Togepi   \n",
       "2      2022-02-19    2022-02-20    31                   3600    Grookey   \n",
       "3      2022-02-19    2022-02-20    40                   3600    Jirachi   \n",
       "4      2022-02-19    2022-02-20    15                   7800   Magneton   \n",
       "5      2022-02-19    2022-02-20    14                   9000   Tornadus   \n",
       "6      2022-02-19    2022-02-20    26                   5500   Appletun   \n",
       "7      2022-02-19    2022-02-20    35                   7500  Marshtomp   \n",
       "8      2022-02-19    2022-02-20    22                   2000   Tsareena   \n",
       "9      2022-02-19    2022-02-20    22                    250     Wimpod   \n",
       "\n",
       "    supplier  price_year_eur  post_code                    city energy  \n",
       "0    Solanus         1061.77      41751                 Viersen  power  \n",
       "1      Norte          651.44      22159                 Hamburg  power  \n",
       "2      Purga         1562.37      31137              Hildesheim  power  \n",
       "3   Elvegust         1609.43      78054  Villingen-Schwenningen  power  \n",
       "4  Paramitos         3040.72      48161                 Münster  power  \n",
       "5   Bergwind         3558.20      27578             Bremerhaven  power  \n",
       "6       Helm         2203.24      78054  Villingen-Schwenningen  power  \n",
       "7   Favonius         3319.41      30419                Hannover  power  \n",
       "8   Bergwind          902.32      85055              Ingolstadt  power  \n",
       "9     Wambra          234.19      14480                 Potsdam  power  "
      ]
     },
     "execution_count": 16,
     "metadata": {},
     "output_type": "execute_result"
    }
   ],
   "source": [
    "pd.read_csv(path, nrows=10)"
   ]
  },
  {
   "cell_type": "code",
   "execution_count": 7,
   "id": "d3caf3a9-8c85-498c-a790-0ebc0faad44b",
   "metadata": {},
   "outputs": [
    {
     "ename": "TypeError",
     "evalue": "to_datetime() missing 1 required positional argument: 'arg'",
     "output_type": "error",
     "traceback": [
      "\u001b[1;31m---------------------------------------------------------------------------\u001b[0m",
      "\u001b[1;31mTypeError\u001b[0m                                 Traceback (most recent call last)",
      "\u001b[1;32m~\\AppData\\Local\\Temp\\ipykernel_23196\\4257279975.py\u001b[0m in \u001b[0;36m<module>\u001b[1;34m\u001b[0m\n\u001b[1;32m----> 1\u001b[1;33m dtypes = {\"date_valid_from\": pd.to_datetime(), \"date_valid_to\": pd.to_datetime(), \"rank\": np.int8, \"cunsumption_range_kwh\": np.int32, \"tariff\": str, \n\u001b[0m\u001b[0;32m      2\u001b[0m           \"supplier\":str, \"price_year_eur\": np.float64, \"post_code\": str, \"city\": str, \"energy\": str}\n",
      "\u001b[1;31mTypeError\u001b[0m: to_datetime() missing 1 required positional argument: 'arg'"
     ]
    }
   ],
   "source": [
    "dtypes = {\"date_valid_from\": pd.to_datetime(), \"date_valid_to\": pd.to_datetime(), \"rank\": np.int8, \"cunsumption_range_kwh\": np.int32, \"tariff\": str, \n",
    "          \"supplier\":str, \"price_year_eur\": np.float64, \"post_code\": str, \"city\": str, \"energy\": str}"
   ]
  },
  {
   "cell_type": "code",
   "execution_count": 30,
   "id": "82f7900f-7308-4ad6-8331-ed7e01c4f82c",
   "metadata": {},
   "outputs": [],
   "source": [
    "household_reader = pd.read_csv(path, chunksize=500000, parse_dates=[\"date_valid_from\", \"date_valid_to\"])"
   ]
  },
  {
   "cell_type": "code",
   "execution_count": 32,
   "id": "2d794d9b-a4fb-4bcb-bca8-1609e6ff0f11",
   "metadata": {},
   "outputs": [
    {
     "name": "stdout",
     "output_type": "stream",
     "text": [
      "1\n"
     ]
    },
    {
     "ename": "ValueError",
     "evalue": "columns overlap but no suffix specified: Index(['date_valid_from', 'date_valid_to', 'rank', 'consumption_range_kwh',\n       'tariff', 'supplier', 'price_year_eur', 'post_code', 'city', 'energy'],\n      dtype='object')",
     "output_type": "error",
     "traceback": [
      "\u001b[1;31m---------------------------------------------------------------------------\u001b[0m",
      "\u001b[1;31mValueError\u001b[0m                                Traceback (most recent call last)",
      "\u001b[1;32m~\\AppData\\Local\\Temp\\ipykernel_23196\\268350353.py\u001b[0m in \u001b[0;36m<module>\u001b[1;34m\u001b[0m\n\u001b[0;32m      1\u001b[0m \u001b[0mhousehold_power\u001b[0m \u001b[1;33m=\u001b[0m \u001b[0mpd\u001b[0m\u001b[1;33m.\u001b[0m\u001b[0mDataFrame\u001b[0m\u001b[1;33m(\u001b[0m\u001b[1;33m)\u001b[0m\u001b[1;33m\u001b[0m\u001b[1;33m\u001b[0m\u001b[0m\n\u001b[0;32m      2\u001b[0m \u001b[1;32mfor\u001b[0m \u001b[0mnum\u001b[0m\u001b[1;33m,\u001b[0m \u001b[0mchunk\u001b[0m \u001b[1;32min\u001b[0m \u001b[0mzip\u001b[0m\u001b[1;33m(\u001b[0m\u001b[1;33m[\u001b[0m\u001b[1;36m1\u001b[0m\u001b[1;33m,\u001b[0m\u001b[1;36m2\u001b[0m\u001b[1;33m]\u001b[0m\u001b[1;33m,\u001b[0m \u001b[0mhousehold_reader\u001b[0m\u001b[1;33m)\u001b[0m\u001b[1;33m:\u001b[0m\u001b[1;33m\u001b[0m\u001b[1;33m\u001b[0m\u001b[0m\n\u001b[1;32m----> 3\u001b[1;33m     \u001b[0mhousehold_power\u001b[0m \u001b[1;33m=\u001b[0m \u001b[0mhousehold_power\u001b[0m\u001b[1;33m.\u001b[0m\u001b[0mjoin\u001b[0m\u001b[1;33m(\u001b[0m\u001b[0mchunk\u001b[0m\u001b[1;33m)\u001b[0m\u001b[1;33m\u001b[0m\u001b[1;33m\u001b[0m\u001b[0m\n\u001b[0m\u001b[0;32m      4\u001b[0m     \u001b[0mprint\u001b[0m\u001b[1;33m(\u001b[0m\u001b[0mnum\u001b[0m\u001b[1;33m)\u001b[0m\u001b[1;33m\u001b[0m\u001b[1;33m\u001b[0m\u001b[0m\n",
      "\u001b[1;32m~\\Anaconda\\anaconda3\\lib\\site-packages\\pandas\\core\\frame.py\u001b[0m in \u001b[0;36mjoin\u001b[1;34m(self, other, on, how, lsuffix, rsuffix, sort)\u001b[0m\n\u001b[0;32m   9261\u001b[0m         \u001b[1;36m5\u001b[0m  \u001b[0mK1\u001b[0m  \u001b[0mA5\u001b[0m   \u001b[0mB1\u001b[0m\u001b[1;33m\u001b[0m\u001b[1;33m\u001b[0m\u001b[0m\n\u001b[0;32m   9262\u001b[0m         \"\"\"\n\u001b[1;32m-> 9263\u001b[1;33m         return self._join_compat(\n\u001b[0m\u001b[0;32m   9264\u001b[0m             \u001b[0mother\u001b[0m\u001b[1;33m,\u001b[0m \u001b[0mon\u001b[0m\u001b[1;33m=\u001b[0m\u001b[0mon\u001b[0m\u001b[1;33m,\u001b[0m \u001b[0mhow\u001b[0m\u001b[1;33m=\u001b[0m\u001b[0mhow\u001b[0m\u001b[1;33m,\u001b[0m \u001b[0mlsuffix\u001b[0m\u001b[1;33m=\u001b[0m\u001b[0mlsuffix\u001b[0m\u001b[1;33m,\u001b[0m \u001b[0mrsuffix\u001b[0m\u001b[1;33m=\u001b[0m\u001b[0mrsuffix\u001b[0m\u001b[1;33m,\u001b[0m \u001b[0msort\u001b[0m\u001b[1;33m=\u001b[0m\u001b[0msort\u001b[0m\u001b[1;33m\u001b[0m\u001b[1;33m\u001b[0m\u001b[0m\n\u001b[0;32m   9265\u001b[0m         )\n",
      "\u001b[1;32m~\\Anaconda\\anaconda3\\lib\\site-packages\\pandas\\core\\frame.py\u001b[0m in \u001b[0;36m_join_compat\u001b[1;34m(self, other, on, how, lsuffix, rsuffix, sort)\u001b[0m\n\u001b[0;32m   9292\u001b[0m                     \u001b[0msort\u001b[0m\u001b[1;33m=\u001b[0m\u001b[0msort\u001b[0m\u001b[1;33m,\u001b[0m\u001b[1;33m\u001b[0m\u001b[1;33m\u001b[0m\u001b[0m\n\u001b[0;32m   9293\u001b[0m                 )\n\u001b[1;32m-> 9294\u001b[1;33m             return merge(\n\u001b[0m\u001b[0;32m   9295\u001b[0m                 \u001b[0mself\u001b[0m\u001b[1;33m,\u001b[0m\u001b[1;33m\u001b[0m\u001b[1;33m\u001b[0m\u001b[0m\n\u001b[0;32m   9296\u001b[0m                 \u001b[0mother\u001b[0m\u001b[1;33m,\u001b[0m\u001b[1;33m\u001b[0m\u001b[1;33m\u001b[0m\u001b[0m\n",
      "\u001b[1;32m~\\Anaconda\\anaconda3\\lib\\site-packages\\pandas\\core\\reshape\\merge.py\u001b[0m in \u001b[0;36mmerge\u001b[1;34m(left, right, how, on, left_on, right_on, left_index, right_index, sort, suffixes, copy, indicator, validate)\u001b[0m\n\u001b[0;32m    120\u001b[0m         \u001b[0mvalidate\u001b[0m\u001b[1;33m=\u001b[0m\u001b[0mvalidate\u001b[0m\u001b[1;33m,\u001b[0m\u001b[1;33m\u001b[0m\u001b[1;33m\u001b[0m\u001b[0m\n\u001b[0;32m    121\u001b[0m     )\n\u001b[1;32m--> 122\u001b[1;33m     \u001b[1;32mreturn\u001b[0m \u001b[0mop\u001b[0m\u001b[1;33m.\u001b[0m\u001b[0mget_result\u001b[0m\u001b[1;33m(\u001b[0m\u001b[1;33m)\u001b[0m\u001b[1;33m\u001b[0m\u001b[1;33m\u001b[0m\u001b[0m\n\u001b[0m\u001b[0;32m    123\u001b[0m \u001b[1;33m\u001b[0m\u001b[0m\n\u001b[0;32m    124\u001b[0m \u001b[1;33m\u001b[0m\u001b[0m\n",
      "\u001b[1;32m~\\Anaconda\\anaconda3\\lib\\site-packages\\pandas\\core\\reshape\\merge.py\u001b[0m in \u001b[0;36mget_result\u001b[1;34m(self)\u001b[0m\n\u001b[0;32m    716\u001b[0m         \u001b[0mjoin_index\u001b[0m\u001b[1;33m,\u001b[0m \u001b[0mleft_indexer\u001b[0m\u001b[1;33m,\u001b[0m \u001b[0mright_indexer\u001b[0m \u001b[1;33m=\u001b[0m \u001b[0mself\u001b[0m\u001b[1;33m.\u001b[0m\u001b[0m_get_join_info\u001b[0m\u001b[1;33m(\u001b[0m\u001b[1;33m)\u001b[0m\u001b[1;33m\u001b[0m\u001b[1;33m\u001b[0m\u001b[0m\n\u001b[0;32m    717\u001b[0m \u001b[1;33m\u001b[0m\u001b[0m\n\u001b[1;32m--> 718\u001b[1;33m         llabels, rlabels = _items_overlap_with_suffix(\n\u001b[0m\u001b[0;32m    719\u001b[0m             \u001b[0mself\u001b[0m\u001b[1;33m.\u001b[0m\u001b[0mleft\u001b[0m\u001b[1;33m.\u001b[0m\u001b[0m_info_axis\u001b[0m\u001b[1;33m,\u001b[0m \u001b[0mself\u001b[0m\u001b[1;33m.\u001b[0m\u001b[0mright\u001b[0m\u001b[1;33m.\u001b[0m\u001b[0m_info_axis\u001b[0m\u001b[1;33m,\u001b[0m \u001b[0mself\u001b[0m\u001b[1;33m.\u001b[0m\u001b[0msuffixes\u001b[0m\u001b[1;33m\u001b[0m\u001b[1;33m\u001b[0m\u001b[0m\n\u001b[0;32m    720\u001b[0m         )\n",
      "\u001b[1;32m~\\Anaconda\\anaconda3\\lib\\site-packages\\pandas\\core\\reshape\\merge.py\u001b[0m in \u001b[0;36m_items_overlap_with_suffix\u001b[1;34m(left, right, suffixes)\u001b[0m\n\u001b[0;32m   2315\u001b[0m \u001b[1;33m\u001b[0m\u001b[0m\n\u001b[0;32m   2316\u001b[0m     \u001b[1;32mif\u001b[0m \u001b[1;32mnot\u001b[0m \u001b[0mlsuffix\u001b[0m \u001b[1;32mand\u001b[0m \u001b[1;32mnot\u001b[0m \u001b[0mrsuffix\u001b[0m\u001b[1;33m:\u001b[0m\u001b[1;33m\u001b[0m\u001b[1;33m\u001b[0m\u001b[0m\n\u001b[1;32m-> 2317\u001b[1;33m         \u001b[1;32mraise\u001b[0m \u001b[0mValueError\u001b[0m\u001b[1;33m(\u001b[0m\u001b[1;34mf\"columns overlap but no suffix specified: {to_rename}\"\u001b[0m\u001b[1;33m)\u001b[0m\u001b[1;33m\u001b[0m\u001b[1;33m\u001b[0m\u001b[0m\n\u001b[0m\u001b[0;32m   2318\u001b[0m \u001b[1;33m\u001b[0m\u001b[0m\n\u001b[0;32m   2319\u001b[0m     \u001b[1;32mdef\u001b[0m \u001b[0mrenamer\u001b[0m\u001b[1;33m(\u001b[0m\u001b[0mx\u001b[0m\u001b[1;33m,\u001b[0m \u001b[0msuffix\u001b[0m\u001b[1;33m)\u001b[0m\u001b[1;33m:\u001b[0m\u001b[1;33m\u001b[0m\u001b[1;33m\u001b[0m\u001b[0m\n",
      "\u001b[1;31mValueError\u001b[0m: columns overlap but no suffix specified: Index(['date_valid_from', 'date_valid_to', 'rank', 'consumption_range_kwh',\n       'tariff', 'supplier', 'price_year_eur', 'post_code', 'city', 'energy'],\n      dtype='object')"
     ]
    }
   ],
   "source": [
    "household_power = pd.DataFrame()\n",
    "for num, chunk in zip([1,2], household_reader):\n",
    "    household_power = household_power.join(chunk)\n",
    "    print(num)"
   ]
  },
  {
   "cell_type": "code",
   "execution_count": 27,
   "id": "40f16b3f-8fac-46c4-a28d-6b17ab1de166",
   "metadata": {},
   "outputs": [
    {
     "data": {
      "text/plain": [
       "<bound method DataFrame.info of Empty DataFrame\n",
       "Columns: []\n",
       "Index: []>"
      ]
     },
     "execution_count": 27,
     "metadata": {},
     "output_type": "execute_result"
    }
   ],
   "source": [
    "household_power.info"
   ]
  },
  {
   "cell_type": "code",
   "execution_count": 28,
   "id": "6633943f-a0e8-454d-b0f4-f31839284e2e",
   "metadata": {},
   "outputs": [
    {
     "data": {
      "text/plain": [
       "(0, 0)"
      ]
     },
     "execution_count": 28,
     "metadata": {},
     "output_type": "execute_result"
    }
   ],
   "source": [
    "household_power.shape"
   ]
  },
  {
   "cell_type": "code",
   "execution_count": 232,
   "id": "09798736-9612-481f-ba36-8d4d446f7168",
   "metadata": {},
   "outputs": [
    {
     "data": {
      "text/plain": [
       "13718951"
      ]
     },
     "execution_count": 232,
     "metadata": {},
     "output_type": "execute_result"
    }
   ],
   "source": [
    "duplicated = household_power.duplicated()\n",
    "duplicated.sum()"
   ]
  },
  {
   "cell_type": "code",
   "execution_count": 22,
   "id": "eb0aa358-17bf-4f25-8fa2-2ac30ce029c7",
   "metadata": {},
   "outputs": [
    {
     "data": {
      "text/html": [
       "<div>\n",
       "<style scoped>\n",
       "    .dataframe tbody tr th:only-of-type {\n",
       "        vertical-align: middle;\n",
       "    }\n",
       "\n",
       "    .dataframe tbody tr th {\n",
       "        vertical-align: top;\n",
       "    }\n",
       "\n",
       "    .dataframe thead th {\n",
       "        text-align: right;\n",
       "    }\n",
       "</style>\n",
       "<table border=\"1\" class=\"dataframe\">\n",
       "  <thead>\n",
       "    <tr style=\"text-align: right;\">\n",
       "      <th></th>\n",
       "      <th>date_valid_from</th>\n",
       "      <th>date_valid_to</th>\n",
       "      <th>rank</th>\n",
       "      <th>consumption_range_kwh</th>\n",
       "      <th>tariff</th>\n",
       "      <th>supplier</th>\n",
       "      <th>price_year_eur</th>\n",
       "      <th>post_code</th>\n",
       "      <th>city</th>\n",
       "      <th>energy</th>\n",
       "    </tr>\n",
       "  </thead>\n",
       "  <tbody>\n",
       "    <tr>\n",
       "      <th>0</th>\n",
       "      <td>2022-02-19</td>\n",
       "      <td>2022-02-20</td>\n",
       "      <td>22</td>\n",
       "      <td>2400</td>\n",
       "      <td>Nidorina</td>\n",
       "      <td>Solanus</td>\n",
       "      <td>1061.77</td>\n",
       "      <td>41751</td>\n",
       "      <td>Viersen</td>\n",
       "      <td>power</td>\n",
       "    </tr>\n",
       "    <tr>\n",
       "      <th>1</th>\n",
       "      <td>2022-02-19</td>\n",
       "      <td>2022-02-20</td>\n",
       "      <td>20</td>\n",
       "      <td>1200</td>\n",
       "      <td>Togepi</td>\n",
       "      <td>Norte</td>\n",
       "      <td>651.44</td>\n",
       "      <td>22159</td>\n",
       "      <td>Hamburg</td>\n",
       "      <td>power</td>\n",
       "    </tr>\n",
       "    <tr>\n",
       "      <th>2</th>\n",
       "      <td>2022-02-19</td>\n",
       "      <td>2022-02-20</td>\n",
       "      <td>31</td>\n",
       "      <td>3600</td>\n",
       "      <td>Grookey</td>\n",
       "      <td>Purga</td>\n",
       "      <td>1562.37</td>\n",
       "      <td>31137</td>\n",
       "      <td>Hildesheim</td>\n",
       "      <td>power</td>\n",
       "    </tr>\n",
       "    <tr>\n",
       "      <th>3</th>\n",
       "      <td>2022-02-19</td>\n",
       "      <td>2022-02-20</td>\n",
       "      <td>40</td>\n",
       "      <td>3600</td>\n",
       "      <td>Jirachi</td>\n",
       "      <td>Elvegust</td>\n",
       "      <td>1609.43</td>\n",
       "      <td>78054</td>\n",
       "      <td>Villingen-Schwenningen</td>\n",
       "      <td>power</td>\n",
       "    </tr>\n",
       "    <tr>\n",
       "      <th>4</th>\n",
       "      <td>2022-02-19</td>\n",
       "      <td>2022-02-20</td>\n",
       "      <td>15</td>\n",
       "      <td>7800</td>\n",
       "      <td>Magneton</td>\n",
       "      <td>Paramitos</td>\n",
       "      <td>3040.72</td>\n",
       "      <td>48161</td>\n",
       "      <td>Münster</td>\n",
       "      <td>power</td>\n",
       "    </tr>\n",
       "  </tbody>\n",
       "</table>\n",
       "</div>"
      ],
      "text/plain": [
       "  date_valid_from date_valid_to  rank  consumption_range_kwh    tariff  \\\n",
       "0      2022-02-19    2022-02-20    22                   2400  Nidorina   \n",
       "1      2022-02-19    2022-02-20    20                   1200    Togepi   \n",
       "2      2022-02-19    2022-02-20    31                   3600   Grookey   \n",
       "3      2022-02-19    2022-02-20    40                   3600   Jirachi   \n",
       "4      2022-02-19    2022-02-20    15                   7800  Magneton   \n",
       "\n",
       "    supplier  price_year_eur  post_code                    city energy  \n",
       "0    Solanus         1061.77      41751                 Viersen  power  \n",
       "1      Norte          651.44      22159                 Hamburg  power  \n",
       "2      Purga         1562.37      31137              Hildesheim  power  \n",
       "3   Elvegust         1609.43      78054  Villingen-Schwenningen  power  \n",
       "4  Paramitos         3040.72      48161                 Münster  power  "
      ]
     },
     "execution_count": 22,
     "metadata": {},
     "output_type": "execute_result"
    }
   ],
   "source": [
    "household_power.head()"
   ]
  },
  {
   "cell_type": "markdown",
   "id": "5d3446d8-6cb9-43b7-81bf-95a9dbc64858",
   "metadata": {},
   "source": [
    "# Length of supplier data"
   ]
  },
  {
   "cell_type": "code",
   "execution_count": 184,
   "id": "272c8f8c-2f3d-40af-9434-2cb91cbe8df6",
   "metadata": {},
   "outputs": [],
   "source": [
    "sliced_power = household_power.loc[(household_power[\"post_code\"]==41751) & (household_power[\"consumption_range_kwh\"]==2400)]"
   ]
  },
  {
   "cell_type": "code",
   "execution_count": 188,
   "id": "e1da624a-1691-465d-a0fa-a9baae719f21",
   "metadata": {},
   "outputs": [
    {
     "data": {
      "text/plain": [
       "(34320, 10)"
      ]
     },
     "execution_count": 188,
     "metadata": {},
     "output_type": "execute_result"
    }
   ],
   "source": [
    "sliced_power.shape"
   ]
  },
  {
   "cell_type": "code",
   "execution_count": 190,
   "id": "6bcab666-c97c-42f6-b262-9aad6620d0e3",
   "metadata": {},
   "outputs": [],
   "source": [
    "suppliers = sliced_power.loc[:,\"supplier\"].unique()"
   ]
  },
  {
   "cell_type": "code",
   "execution_count": 230,
   "id": "6d42ebc5-51fa-439c-a5e5-337411d42aba",
   "metadata": {},
   "outputs": [
    {
     "name": "stdout",
     "output_type": "stream",
     "text": [
      "There are 99 suppliers\n",
      "\n",
      "For Solanus              we have 411 days of data\n",
      "For Collada              we have 181 days of data\n",
      "For Bhoot                we have 179 days of data\n",
      "For Nördliche Dwina      we have 216 days of data\n",
      "For Werra                we have 411 days of data\n",
      "For Bergwind             we have 411 days of data\n",
      "For Santa                we have 338 days of data\n",
      "For Calima               we have  31 days of data\n",
      "For Lule älv             we have 411 days of data\n",
      "For Paramitos            we have 262 days of data\n",
      "For Elvegust             we have 341 days of data\n",
      "For Poniente             we have 362 days of data\n",
      "For Boreas               we have 411 days of data\n",
      "For Norte                we have 301 days of data\n",
      "For Tornado              we have 338 days of data\n",
      "For Sarma                we have 411 days of data\n",
      "For Tehuantepecers       we have 408 days of data\n",
      "For Monsunwind           we have 136 days of data\n",
      "For Mureș                we have 250 days of data\n",
      "For Willy                we have 189 days of data\n",
      "For Downburst            we have 326 days of data\n",
      "For Caurus               we have 416 days of data\n",
      "For Reshabar             we have 411 days of data\n",
      "For Canterbury           we have 411 days of data\n",
      "For Favonius             we have 298 days of data\n",
      "For Wischera             we have 310 days of data\n",
      "For Oder                 we have 364 days of data\n",
      "For Piteraq              we have 411 days of data\n",
      "For Belat                we have 430 days of data\n",
      "For Kata                 we have 314 days of data\n",
      "For Austru               we have  64 days of data\n",
      "For Helm                 we have 312 days of data\n",
      "For Papagayos            we have 359 days of data\n",
      "For Aquilo               we have 194 days of data\n",
      "For Belaja               we have 411 days of data\n",
      "For Habub                we have 176 days of data\n",
      "For Coromell             we have 318 days of data\n",
      "For Hangwind             we have 355 days of data\n",
      "For Pulenat              we have 430 days of data\n",
      "For Main                 we have 175 days of data\n",
      "For Sirkos               we have 411 days of data\n",
      "For Wambra               we have 184 days of data\n",
      "For Purga                we have 411 days of data\n",
      "For Kachchan             we have 327 days of data\n",
      "For Harmattan            we have 131 days of data\n",
      "For Kusi                 we have 349 days of data\n",
      "For Joran                we have 269 days of data\n",
      "For Euros                we have 159 days of data\n",
      "For Aller                we have 335 days of data\n",
      "For Severn               we have 311 days of data\n",
      "For Talwind              we have  56 days of data\n",
      "For Aspr                 we have 111 days of data\n",
      "For Chamsin              we have  60 days of data\n",
      "For Williwaw             we have  32 days of data\n",
      "For Ångermanälven        we have  91 days of data\n",
      "For Brubu                we have  28 days of data\n",
      "For Passat               we have  34 days of data\n",
      "For Bayamo               we have  21 days of data\n",
      "For Gharra               we have  75 days of data\n",
      "For Leste                we have  81 days of data\n",
      "For Bohorok              we have  71 days of data\n",
      "For Gregale              we have 105 days of data\n",
      "For Drau                 we have 177 days of data\n",
      "For Supernas             we have  87 days of data\n",
      "For Jugo                 we have  52 days of data\n",
      "For Gibli                we have  93 days of data\n",
      "For Kapdoktor            we have   9 days of data\n",
      "For Septentrio           we have  46 days of data\n",
      "For Criador              we have  80 days of data\n",
      "For Chili                we have  44 days of data\n",
      "For Bise                 we have  43 days of data\n",
      "For Notos                we have  49 days of data\n",
      "For Torne älv            we have  50 days of data\n",
      "For Seewind              we have  34 days of data\n",
      "For Hurrikan             we have  43 days of data\n",
      "For Zonda                we have 106 days of data\n",
      "For Karajol              we have  60 days of data\n",
      "For Auster               we have  74 days of data\n",
      "For Suracon              we have 125 days of data\n",
      "For Rhone                we have  89 days of data\n",
      "For Garbas               we have  37 days of data\n",
      "For Libeccio             we have  71 days of data\n",
      "For Shannon              we have 181 days of data\n",
      "For Seine                we have  82 days of data\n",
      "For Maloja               we have   5 days of data\n",
      "For Elephanta            we have  43 days of data\n",
      "For Barat                we have  31 days of data\n",
      "For Kama                 we have  10 days of data\n",
      "For Yalca                we have 113 days of data\n",
      "For Marin                we have  42 days of data\n",
      "For Fulda                we have  48 days of data\n",
      "For Ebe                  we have  32 days of data\n",
      "For Dordogne             we have  27 days of data\n",
      "For Himmelsbesen         we have  10 days of data\n",
      "For Pampero              we have   7 days of data\n",
      "For Rossbreiten          we have  28 days of data\n",
      "For Puelche              we have   1 days of data\n",
      "For Ruhr                 we have   5 days of data\n",
      "For Minuano              we have   8 days of data\n"
     ]
    }
   ],
   "source": [
    "print(f\"There are {suppliers.shape[0]} suppliers\")\n",
    "print()\n",
    "\n",
    "for sup in suppliers:\n",
    "    smallest = sliced_power.loc[sliced_power[\"supplier\"]==sup,\"date_valid_from\"].min()\n",
    "    biggest = sliced_power.loc[sliced_power[\"supplier\"]==sup,\"date_valid_to\"].max()\n",
    "    if biggest == \"9999-12-31\":\n",
    "        biggest = \"2022-10-16\"\n",
    "    smallest= pd.to_datetime(smallest)\n",
    "    biggest = pd.to_datetime(biggest)\n",
    "    print(f\"For {sup:<20} we have {(biggest-smallest).days +1:>3} days of data\")"
   ]
  },
  {
   "cell_type": "code",
   "execution_count": 156,
   "id": "ca0e363e-919d-4701-a44c-6cb0889cd373",
   "metadata": {},
   "outputs": [],
   "source": [
    "power_plz_range_sort = household_power[(household_power[\"post_code\"]==41751) & (household_power[\"consumption_range_kwh\"]==2400)].sort_values(by = [\"date_valid_from\", \"rank\"])\n"
   ]
  },
  {
   "cell_type": "code",
   "execution_count": 157,
   "id": "f40bad7a-1a8c-4b1f-ac44-7ab69056bf14",
   "metadata": {},
   "outputs": [],
   "source": [
    "nidorina_plz_range_sort = power_plz_range_sort[power_plz_range_sort[\"tariff\"] == \"Nidorina\"]"
   ]
  },
  {
   "cell_type": "code",
   "execution_count": 159,
   "id": "55361326-0cc1-498f-86b1-3a8380935e11",
   "metadata": {},
   "outputs": [
    {
     "data": {
      "text/html": [
       "<div>\n",
       "<style scoped>\n",
       "    .dataframe tbody tr th:only-of-type {\n",
       "        vertical-align: middle;\n",
       "    }\n",
       "\n",
       "    .dataframe tbody tr th {\n",
       "        vertical-align: top;\n",
       "    }\n",
       "\n",
       "    .dataframe thead th {\n",
       "        text-align: right;\n",
       "    }\n",
       "</style>\n",
       "<table border=\"1\" class=\"dataframe\">\n",
       "  <thead>\n",
       "    <tr style=\"text-align: right;\">\n",
       "      <th></th>\n",
       "      <th>date_valid_from</th>\n",
       "      <th>date_valid_to</th>\n",
       "      <th>rank</th>\n",
       "      <th>consumption_range_kwh</th>\n",
       "      <th>tariff</th>\n",
       "      <th>supplier</th>\n",
       "      <th>price_year_eur</th>\n",
       "      <th>post_code</th>\n",
       "      <th>city</th>\n",
       "      <th>energy</th>\n",
       "    </tr>\n",
       "  </thead>\n",
       "  <tbody>\n",
       "    <tr>\n",
       "      <th>14701508</th>\n",
       "      <td>2022-02-08</td>\n",
       "      <td>2022-02-08</td>\n",
       "      <td>21</td>\n",
       "      <td>2400</td>\n",
       "      <td>Nidorina</td>\n",
       "      <td>Solanus</td>\n",
       "      <td>1134.60</td>\n",
       "      <td>41751</td>\n",
       "      <td>Viersen</td>\n",
       "      <td>power</td>\n",
       "    </tr>\n",
       "    <tr>\n",
       "      <th>59324226</th>\n",
       "      <td>2022-02-08</td>\n",
       "      <td>2022-02-08</td>\n",
       "      <td>21</td>\n",
       "      <td>2400</td>\n",
       "      <td>Nidorina</td>\n",
       "      <td>Solanus</td>\n",
       "      <td>1134.60</td>\n",
       "      <td>41751</td>\n",
       "      <td>Viersen</td>\n",
       "      <td>power</td>\n",
       "    </tr>\n",
       "    <tr>\n",
       "      <th>8235968</th>\n",
       "      <td>2022-02-08</td>\n",
       "      <td>2022-02-08</td>\n",
       "      <td>42</td>\n",
       "      <td>2400</td>\n",
       "      <td>Nidorina</td>\n",
       "      <td>Solanus</td>\n",
       "      <td>1364.24</td>\n",
       "      <td>41751</td>\n",
       "      <td>Viersen</td>\n",
       "      <td>power</td>\n",
       "    </tr>\n",
       "    <tr>\n",
       "      <th>67346021</th>\n",
       "      <td>2022-02-08</td>\n",
       "      <td>2022-02-08</td>\n",
       "      <td>42</td>\n",
       "      <td>2400</td>\n",
       "      <td>Nidorina</td>\n",
       "      <td>Solanus</td>\n",
       "      <td>1364.24</td>\n",
       "      <td>41751</td>\n",
       "      <td>Viersen</td>\n",
       "      <td>power</td>\n",
       "    </tr>\n",
       "    <tr>\n",
       "      <th>59374860</th>\n",
       "      <td>2022-02-09</td>\n",
       "      <td>2022-02-09</td>\n",
       "      <td>25</td>\n",
       "      <td>2400</td>\n",
       "      <td>Nidorina</td>\n",
       "      <td>Solanus</td>\n",
       "      <td>1141.88</td>\n",
       "      <td>41751</td>\n",
       "      <td>Viersen</td>\n",
       "      <td>power</td>\n",
       "    </tr>\n",
       "  </tbody>\n",
       "</table>\n",
       "</div>"
      ],
      "text/plain": [
       "         date_valid_from date_valid_to  rank  consumption_range_kwh    tariff  \\\n",
       "14701508      2022-02-08    2022-02-08    21                   2400  Nidorina   \n",
       "59324226      2022-02-08    2022-02-08    21                   2400  Nidorina   \n",
       "8235968       2022-02-08    2022-02-08    42                   2400  Nidorina   \n",
       "67346021      2022-02-08    2022-02-08    42                   2400  Nidorina   \n",
       "59374860      2022-02-09    2022-02-09    25                   2400  Nidorina   \n",
       "\n",
       "         supplier  price_year_eur  post_code     city energy  \n",
       "14701508  Solanus         1134.60      41751  Viersen  power  \n",
       "59324226  Solanus         1134.60      41751  Viersen  power  \n",
       "8235968   Solanus         1364.24      41751  Viersen  power  \n",
       "67346021  Solanus         1364.24      41751  Viersen  power  \n",
       "59374860  Solanus         1141.88      41751  Viersen  power  "
      ]
     },
     "execution_count": 159,
     "metadata": {},
     "output_type": "execute_result"
    }
   ],
   "source": [
    "nidorina_plz_range_sort.head()"
   ]
  },
  {
   "cell_type": "code",
   "execution_count": 178,
   "id": "e3c62cd0-d7af-4db3-afb8-b48821db2e4d",
   "metadata": {},
   "outputs": [
    {
     "data": {
      "text/plain": [
       "3"
      ]
     },
     "execution_count": 178,
     "metadata": {},
     "output_type": "execute_result"
    }
   ],
   "source": [
    "delta = pd.to_datetime(\"2022-02-08\") - pd.to_datetime(\"2022-02-05\")\n",
    "delta.days"
   ]
  },
  {
   "cell_type": "code",
   "execution_count": 162,
   "id": "15297598-ddea-43b5-9b69-4d9f0aac58dc",
   "metadata": {},
   "outputs": [
    {
     "data": {
      "text/plain": [
       "(58, 10)"
      ]
     },
     "execution_count": 162,
     "metadata": {},
     "output_type": "execute_result"
    }
   ],
   "source": [
    "nidorina_plz_range_sort.shape"
   ]
  },
  {
   "cell_type": "code",
   "execution_count": 153,
   "id": "6f4b3633-df3b-4c66-a17c-3c014597979c",
   "metadata": {},
   "outputs": [
    {
     "data": {
      "text/plain": [
       "14701508    False\n",
       "59324226     True\n",
       "8235968     False\n",
       "67346021     True\n",
       "59374860    False\n",
       "dtype: bool"
      ]
     },
     "execution_count": 153,
     "metadata": {},
     "output_type": "execute_result"
    }
   ],
   "source": [
    "nidorina_plz_range_sort.duplicated().head()"
   ]
  },
  {
   "cell_type": "code",
   "execution_count": 163,
   "id": "7732741d-7319-460e-a84c-a3c6377cee15",
   "metadata": {},
   "outputs": [
    {
     "data": {
      "text/plain": [
       "29"
      ]
     },
     "execution_count": 163,
     "metadata": {},
     "output_type": "execute_result"
    }
   ],
   "source": [
    "nidorina_plz_range_sort.duplicated().sum()"
   ]
  },
  {
   "cell_type": "code",
   "execution_count": 104,
   "id": "da1bc22e-38d3-4825-8656-0cf8c7d70c74",
   "metadata": {},
   "outputs": [
    {
     "data": {
      "text/plain": [
       "(58, 10)"
      ]
     },
     "execution_count": 104,
     "metadata": {},
     "output_type": "execute_result"
    }
   ],
   "source": [
    "nidorina_plz_range_sort.shape"
   ]
  },
  {
   "cell_type": "code",
   "execution_count": 231,
   "id": "5d7ec951-7185-4cc4-967d-386b0aaabcdb",
   "metadata": {},
   "outputs": [
    {
     "data": {
      "image/png": "[encoded data removed]",
      "text/plain": [
       "<Figure size 640x480 with 1 Axes>"
      ]
     },
     "metadata": {},
     "output_type": "display_data"
    }
   ],
   "source": [
    "fig = plt.figure()\n",
    "\n",
    "for from_date, to_date, price in zip(nidorina_plz_range_sort[\"date_valid_from\"], nidorina_plz_range_sort[\"date_valid_to\"], nidorina_plz_range_sort[\"price_year_eur\"]):\n",
    "    plt.scatter(from_date, price, c = \"black\")\n",
    "    #plt.scatter(to_date, price)\n",
    "    \n",
    "fig.tight_layout()"
   ]
  },
  {
   "cell_type": "code",
   "execution_count": 164,
   "id": "fdad92b9-5d3d-4651-867c-f489583fe230",
   "metadata": {},
   "outputs": [
    {
     "data": {
      "image/png": "[encoded data removed]",
      "text/plain": [
       "<Figure size 640x480 with 1 Axes>"
      ]
     },
     "metadata": {},
     "output_type": "display_data"
    }
   ],
   "source": [
    "fig = plt.figure()\n",
    "\n",
    "\n",
    "plt.plot(nidorina_plz_range_sort[\"date_valid_from\"], nidorina_plz_range_sort[\"price_year_eur\"])\n",
    "\n",
    "    \n",
    "fig.tight_layout()"
   ]
  },
  {
   "cell_type": "code",
   "execution_count": 30,
   "id": "fdd8a322-9da2-452f-ad5d-808f09622b91",
   "metadata": {},
   "outputs": [],
   "source": [
    "solanus=household_power[household_power[\"supplier\"]==\"Solanus\"]"
   ]
  },
  {
   "cell_type": "code",
   "execution_count": 50,
   "id": "380ffaa1-3880-4eef-a6a8-a7615675948e",
   "metadata": {},
   "outputs": [],
   "source": [
    "solanus_plz_range = solanus.query(\"consumption_range_kwh == 2400 and post_code == 41751 and tariff == 'Snorlax'\")"
   ]
  },
  {
   "cell_type": "code",
   "execution_count": 51,
   "id": "4fe049be-7f05-4629-842a-bf571490476a",
   "metadata": {},
   "outputs": [],
   "source": [
    "solanus_sort = solanus_plz_range.sort_values(by = [\"date_valid_from\", \"tariff\"])"
   ]
  },
  {
   "cell_type": "code",
   "execution_count": 52,
   "id": "6d22daa3-581e-40a9-9505-d721884bdbe1",
   "metadata": {},
   "outputs": [
    {
     "data": {
      "text/html": [
       "<div>\n",
       "<style scoped>\n",
       "    .dataframe tbody tr th:only-of-type {\n",
       "        vertical-align: middle;\n",
       "    }\n",
       "\n",
       "    .dataframe tbody tr th {\n",
       "        vertical-align: top;\n",
       "    }\n",
       "\n",
       "    .dataframe thead th {\n",
       "        text-align: right;\n",
       "    }\n",
       "</style>\n",
       "<table border=\"1\" class=\"dataframe\">\n",
       "  <thead>\n",
       "    <tr style=\"text-align: right;\">\n",
       "      <th></th>\n",
       "      <th>date_valid_from</th>\n",
       "      <th>date_valid_to</th>\n",
       "      <th>rank</th>\n",
       "      <th>consumption_range_kwh</th>\n",
       "      <th>tariff</th>\n",
       "      <th>supplier</th>\n",
       "      <th>price_year_eur</th>\n",
       "      <th>post_code</th>\n",
       "      <th>city</th>\n",
       "      <th>energy</th>\n",
       "    </tr>\n",
       "  </thead>\n",
       "  <tbody>\n",
       "    <tr>\n",
       "      <th>30984964</th>\n",
       "      <td>2021-09-01</td>\n",
       "      <td>2021-09-01</td>\n",
       "      <td>44</td>\n",
       "      <td>2400</td>\n",
       "      <td>Snorlax</td>\n",
       "      <td>Solanus</td>\n",
       "      <td>770.85</td>\n",
       "      <td>41751</td>\n",
       "      <td>Viersen</td>\n",
       "      <td>power</td>\n",
       "    </tr>\n",
       "    <tr>\n",
       "      <th>63864471</th>\n",
       "      <td>2021-09-01</td>\n",
       "      <td>2021-09-01</td>\n",
       "      <td>44</td>\n",
       "      <td>2400</td>\n",
       "      <td>Snorlax</td>\n",
       "      <td>Solanus</td>\n",
       "      <td>770.85</td>\n",
       "      <td>41751</td>\n",
       "      <td>Viersen</td>\n",
       "      <td>power</td>\n",
       "    </tr>\n",
       "    <tr>\n",
       "      <th>65355805</th>\n",
       "      <td>2021-09-04</td>\n",
       "      <td>2021-09-08</td>\n",
       "      <td>46</td>\n",
       "      <td>2400</td>\n",
       "      <td>Snorlax</td>\n",
       "      <td>Solanus</td>\n",
       "      <td>780.07</td>\n",
       "      <td>41751</td>\n",
       "      <td>Viersen</td>\n",
       "      <td>power</td>\n",
       "    </tr>\n",
       "    <tr>\n",
       "      <th>65911708</th>\n",
       "      <td>2021-09-04</td>\n",
       "      <td>2021-09-08</td>\n",
       "      <td>45</td>\n",
       "      <td>2400</td>\n",
       "      <td>Snorlax</td>\n",
       "      <td>Solanus</td>\n",
       "      <td>780.07</td>\n",
       "      <td>41751</td>\n",
       "      <td>Viersen</td>\n",
       "      <td>power</td>\n",
       "    </tr>\n",
       "    <tr>\n",
       "      <th>55263258</th>\n",
       "      <td>2021-09-09</td>\n",
       "      <td>2021-09-09</td>\n",
       "      <td>41</td>\n",
       "      <td>2400</td>\n",
       "      <td>Snorlax</td>\n",
       "      <td>Solanus</td>\n",
       "      <td>780.07</td>\n",
       "      <td>41751</td>\n",
       "      <td>Viersen</td>\n",
       "      <td>power</td>\n",
       "    </tr>\n",
       "  </tbody>\n",
       "</table>\n",
       "</div>"
      ],
      "text/plain": [
       "         date_valid_from date_valid_to  rank  consumption_range_kwh   tariff  \\\n",
       "30984964      2021-09-01    2021-09-01    44                   2400  Snorlax   \n",
       "63864471      2021-09-01    2021-09-01    44                   2400  Snorlax   \n",
       "65355805      2021-09-04    2021-09-08    46                   2400  Snorlax   \n",
       "65911708      2021-09-04    2021-09-08    45                   2400  Snorlax   \n",
       "55263258      2021-09-09    2021-09-09    41                   2400  Snorlax   \n",
       "\n",
       "         supplier  price_year_eur  post_code     city energy  \n",
       "30984964  Solanus          770.85      41751  Viersen  power  \n",
       "63864471  Solanus          770.85      41751  Viersen  power  \n",
       "65355805  Solanus          780.07      41751  Viersen  power  \n",
       "65911708  Solanus          780.07      41751  Viersen  power  \n",
       "55263258  Solanus          780.07      41751  Viersen  power  "
      ]
     },
     "execution_count": 52,
     "metadata": {},
     "output_type": "execute_result"
    }
   ],
   "source": [
    "solanus_sort.head()"
   ]
  },
  {
   "cell_type": "code",
   "execution_count": 53,
   "id": "44544394-af37-4fab-9599-54ec6813e2f9",
   "metadata": {},
   "outputs": [
    {
     "data": {
      "text/plain": [
       "(150, 10)"
      ]
     },
     "execution_count": 53,
     "metadata": {},
     "output_type": "execute_result"
    }
   ],
   "source": [
    "solanus_sort.shape"
   ]
  },
  {
   "cell_type": "code",
   "execution_count": 54,
   "id": "eac8cc04-b91a-4331-aea6-51f5ca77f0a6",
   "metadata": {},
   "outputs": [
    {
     "data": {
      "text/plain": [
       "[<matplotlib.lines.Line2D at 0x19e81a03eb0>]"
      ]
     },
     "execution_count": 54,
     "metadata": {},
     "output_type": "execute_result"
    },
    {
     "data": {
      "image/png": "[encoded data removed]",
      "text/plain": [
       "<Figure size 640x480 with 1 Axes>"
      ]
     },
     "metadata": {},
     "output_type": "display_data"
    }
   ],
   "source": [
    "plt.plot(solanus_sort[\"date_valid_from\"])"
   ]
  },
  {
   "cell_type": "code",
   "execution_count": null,
   "id": "5589da77-f2da-46b0-8dcb-9473c4453274",
   "metadata": {},
   "outputs": [],
   "source": []
  },
  {
   "cell_type": "code",
   "execution_count": 13,
   "id": "f8ee4d60-c7fa-4cb8-9ffb-6a64c0ee818b",
   "metadata": {},
   "outputs": [
    {
     "ename": "ModuleNotFoundError",
     "evalue": "No module named 'pyarrow'",
     "output_type": "error",
     "traceback": [
      "\u001b[1;31m---------------------------------------------------------------------------\u001b[0m",
      "\u001b[1;31mModuleNotFoundError\u001b[0m                       Traceback (most recent call last)",
      "\u001b[1;32m~\\AppData\\Local\\Temp\\ipykernel_11572\\3380941813.py\u001b[0m in \u001b[0;36m<module>\u001b[1;34m\u001b[0m\n\u001b[1;32m----> 1\u001b[1;33m \u001b[1;32mimport\u001b[0m \u001b[0mpyarrow\u001b[0m\u001b[1;33m.\u001b[0m\u001b[0mfeather\u001b[0m \u001b[1;32mas\u001b[0m \u001b[0mfeather\u001b[0m\u001b[1;33m\u001b[0m\u001b[1;33m\u001b[0m\u001b[0m\n\u001b[0m\u001b[0;32m      2\u001b[0m \u001b[0mhousehold_power\u001b[0m\u001b[1;33m.\u001b[0m\u001b[0mto_feather\u001b[0m\u001b[1;33m(\u001b[0m\u001b[1;34m\"feather_competitor_market_price_power\"\u001b[0m\u001b[1;33m)\u001b[0m\u001b[1;33m\u001b[0m\u001b[1;33m\u001b[0m\u001b[0m\n",
      "\u001b[1;31mModuleNotFoundError\u001b[0m: No module named 'pyarrow'"
     ]
    }
   ],
   "source": [
    "import pyarrow.feather as feather\n",
    "household_power.to_feather(\"feather_competitor_market_price_power\")"
   ]
  }
 ],
 "metadata": {
  "kernelspec": {
   "display_name": "Python 3 (ipykernel)",
   "language": "python",
   "name": "python3"
  },
  "language_info": {
   "codemirror_mode": {
    "name": "ipython",
    "version": 3
   },
   "file_extension": ".py",
   "mimetype": "text/x-python",
   "name": "python",
   "nbconvert_exporter": "python",
   "pygments_lexer": "ipython3",
   "version": "3.9.13"
  }
 },
 "nbformat": 4,
 "nbformat_minor": 5
}
