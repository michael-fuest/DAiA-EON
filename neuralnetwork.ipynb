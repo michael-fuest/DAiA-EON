{
 "cells": [
  {
   "cell_type": "code",
   "execution_count": 107,
   "metadata": {},
   "outputs": [],
   "source": [
    "import numpy as np\n",
    "import pandas as pd\n",
    "import matplotlib.pyplot as plt\n",
    "from datetime import datetime"
   ]
  },
  {
   "cell_type": "code",
   "execution_count": 2,
   "metadata": {},
   "outputs": [],
   "source": [
    "path_clean_power = \"./data/clean_competitor_market_prices_power.csv\""
   ]
  },
  {
   "cell_type": "code",
   "execution_count": 3,
   "metadata": {},
   "outputs": [],
   "source": [
    "dtypes = {\"date_valid_from\": str, \"date_valid_to\": str, \"consumption_range_kwh\": np.int32, \"price_year_eur\": np.float64}\n",
    "usecols = [name for name, _ in dtypes.items()]"
   ]
  },
  {
   "cell_type": "code",
   "execution_count": 6,
   "metadata": {},
   "outputs": [],
   "source": [
    "household = pd.read_csv(path_clean_power, usecols=usecols, dtype = dtypes)"
   ]
  },
  {
   "cell_type": "code",
   "execution_count": 30,
   "metadata": {},
   "outputs": [
    {
     "data": {
      "text/html": [
       "<div>\n",
       "<style scoped>\n",
       "    .dataframe tbody tr th:only-of-type {\n",
       "        vertical-align: middle;\n",
       "    }\n",
       "\n",
       "    .dataframe tbody tr th {\n",
       "        vertical-align: top;\n",
       "    }\n",
       "\n",
       "    .dataframe thead th {\n",
       "        text-align: right;\n",
       "    }\n",
       "</style>\n",
       "<table border=\"1\" class=\"dataframe\">\n",
       "  <thead>\n",
       "    <tr style=\"text-align: right;\">\n",
       "      <th></th>\n",
       "      <th>date_valid_to</th>\n",
       "      <th>date_valid_from</th>\n",
       "      <th>consumption_range_kwh</th>\n",
       "      <th>price_year_eur</th>\n",
       "    </tr>\n",
       "  </thead>\n",
       "  <tbody>\n",
       "    <tr>\n",
       "      <th>0</th>\n",
       "      <td>2021-09-01</td>\n",
       "      <td>2021-06-02</td>\n",
       "      <td>3500</td>\n",
       "      <td>878.86</td>\n",
       "    </tr>\n",
       "    <tr>\n",
       "      <th>1</th>\n",
       "      <td>2021-09-01</td>\n",
       "      <td>2021-06-09</td>\n",
       "      <td>2800</td>\n",
       "      <td>678.69</td>\n",
       "    </tr>\n",
       "    <tr>\n",
       "      <th>2</th>\n",
       "      <td>2021-09-01</td>\n",
       "      <td>2021-07-10</td>\n",
       "      <td>7500</td>\n",
       "      <td>2022.68</td>\n",
       "    </tr>\n",
       "    <tr>\n",
       "      <th>3</th>\n",
       "      <td>2021-09-01</td>\n",
       "      <td>2021-07-10</td>\n",
       "      <td>7800</td>\n",
       "      <td>2108.47</td>\n",
       "    </tr>\n",
       "    <tr>\n",
       "      <th>4</th>\n",
       "      <td>2021-09-01</td>\n",
       "      <td>2021-07-10</td>\n",
       "      <td>8000</td>\n",
       "      <td>2165.66</td>\n",
       "    </tr>\n",
       "  </tbody>\n",
       "</table>\n",
       "</div>"
      ],
      "text/plain": [
       "  date_valid_to date_valid_from  consumption_range_kwh  price_year_eur\n",
       "0    2021-09-01      2021-06-02                   3500          878.86\n",
       "1    2021-09-01      2021-06-09                   2800          678.69\n",
       "2    2021-09-01      2021-07-10                   7500         2022.68\n",
       "3    2021-09-01      2021-07-10                   7800         2108.47\n",
       "4    2021-09-01      2021-07-10                   8000         2165.66"
      ]
     },
     "execution_count": 30,
     "metadata": {},
     "output_type": "execute_result"
    }
   ],
   "source": [
    "household.head()"
   ]
  },
  {
   "cell_type": "code",
   "execution_count": 54,
   "metadata": {},
   "outputs": [],
   "source": [
    "household[\"date_valid_to\"].replace({\"9999-12-31\": \"2022-10-15\"}, inplace=True)\n",
    "household[\"price_kwh\"] = household[\"price_year_eur\"]/household[\"consumption_range_kwh\"]"
   ]
  },
  {
   "cell_type": "code",
   "execution_count": 35,
   "metadata": {},
   "outputs": [],
   "source": [
    "household[\"date_valid_from\"] = pd.to_datetime(household[\"date_valid_from\"])\n",
    "household[\"date_valid_to\"] = pd.to_datetime(household[\"date_valid_to\"])"
   ]
  },
  {
   "cell_type": "code",
   "execution_count": 46,
   "metadata": {},
   "outputs": [
    {
     "name": "stdout",
     "output_type": "stream",
     "text": [
      "Earliest date: 2021-05-25 00:00:00Latest date: 2022-10-15 00:00:00\n"
     ]
    }
   ],
   "source": [
    "print(f\"Earliest date: {household['date_valid_from'].min()}\" +\n",
    "f\"Latest date: {household['date_valid_to'].max()}\")"
   ]
  },
  {
   "cell_type": "code",
   "execution_count": 55,
   "metadata": {},
   "outputs": [
    {
     "data": {
      "text/html": [
       "<div>\n",
       "<style scoped>\n",
       "    .dataframe tbody tr th:only-of-type {\n",
       "        vertical-align: middle;\n",
       "    }\n",
       "\n",
       "    .dataframe tbody tr th {\n",
       "        vertical-align: top;\n",
       "    }\n",
       "\n",
       "    .dataframe thead th {\n",
       "        text-align: right;\n",
       "    }\n",
       "</style>\n",
       "<table border=\"1\" class=\"dataframe\">\n",
       "  <thead>\n",
       "    <tr style=\"text-align: right;\">\n",
       "      <th></th>\n",
       "      <th>date_valid_to</th>\n",
       "      <th>date_valid_from</th>\n",
       "      <th>consumption_range_kwh</th>\n",
       "      <th>price_year_eur</th>\n",
       "      <th>price_kwh</th>\n",
       "    </tr>\n",
       "  </thead>\n",
       "  <tbody>\n",
       "    <tr>\n",
       "      <th>0</th>\n",
       "      <td>2021-09-01</td>\n",
       "      <td>2021-06-02</td>\n",
       "      <td>3500</td>\n",
       "      <td>878.86</td>\n",
       "      <td>0.251103</td>\n",
       "    </tr>\n",
       "    <tr>\n",
       "      <th>1</th>\n",
       "      <td>2021-09-01</td>\n",
       "      <td>2021-06-09</td>\n",
       "      <td>2800</td>\n",
       "      <td>678.69</td>\n",
       "      <td>0.242389</td>\n",
       "    </tr>\n",
       "    <tr>\n",
       "      <th>2</th>\n",
       "      <td>2021-09-01</td>\n",
       "      <td>2021-07-10</td>\n",
       "      <td>7500</td>\n",
       "      <td>2022.68</td>\n",
       "      <td>0.269691</td>\n",
       "    </tr>\n",
       "    <tr>\n",
       "      <th>3</th>\n",
       "      <td>2021-09-01</td>\n",
       "      <td>2021-07-10</td>\n",
       "      <td>7800</td>\n",
       "      <td>2108.47</td>\n",
       "      <td>0.270317</td>\n",
       "    </tr>\n",
       "    <tr>\n",
       "      <th>4</th>\n",
       "      <td>2021-09-01</td>\n",
       "      <td>2021-07-10</td>\n",
       "      <td>8000</td>\n",
       "      <td>2165.66</td>\n",
       "      <td>0.270707</td>\n",
       "    </tr>\n",
       "  </tbody>\n",
       "</table>\n",
       "</div>"
      ],
      "text/plain": [
       "  date_valid_to date_valid_from  consumption_range_kwh  price_year_eur  \\\n",
       "0    2021-09-01      2021-06-02                   3500          878.86   \n",
       "1    2021-09-01      2021-06-09                   2800          678.69   \n",
       "2    2021-09-01      2021-07-10                   7500         2022.68   \n",
       "3    2021-09-01      2021-07-10                   7800         2108.47   \n",
       "4    2021-09-01      2021-07-10                   8000         2165.66   \n",
       "\n",
       "   price_kwh  \n",
       "0   0.251103  \n",
       "1   0.242389  \n",
       "2   0.269691  \n",
       "3   0.270317  \n",
       "4   0.270707  "
      ]
     },
     "execution_count": 55,
     "metadata": {},
     "output_type": "execute_result"
    }
   ],
   "source": [
    "household.head()"
   ]
  },
  {
   "cell_type": "code",
   "execution_count": 93,
   "metadata": {},
   "outputs": [],
   "source": [
    "household_short = household.iloc[:2_000_000, :]"
   ]
  },
  {
   "cell_type": "code",
   "execution_count": 77,
   "metadata": {},
   "outputs": [
    {
     "data": {
      "text/html": [
       "<div>\n",
       "<style scoped>\n",
       "    .dataframe tbody tr th:only-of-type {\n",
       "        vertical-align: middle;\n",
       "    }\n",
       "\n",
       "    .dataframe tbody tr th {\n",
       "        vertical-align: top;\n",
       "    }\n",
       "\n",
       "    .dataframe thead th {\n",
       "        text-align: right;\n",
       "    }\n",
       "</style>\n",
       "<table border=\"1\" class=\"dataframe\">\n",
       "  <thead>\n",
       "    <tr style=\"text-align: right;\">\n",
       "      <th></th>\n",
       "      <th>date</th>\n",
       "      <th>av_price_kwh</th>\n",
       "      <th>counter</th>\n",
       "    </tr>\n",
       "  </thead>\n",
       "  <tbody>\n",
       "    <tr>\n",
       "      <th>0</th>\n",
       "      <td>2021-05-25</td>\n",
       "      <td>0</td>\n",
       "      <td>0</td>\n",
       "    </tr>\n",
       "    <tr>\n",
       "      <th>1</th>\n",
       "      <td>2021-05-26</td>\n",
       "      <td>0</td>\n",
       "      <td>0</td>\n",
       "    </tr>\n",
       "    <tr>\n",
       "      <th>2</th>\n",
       "      <td>2021-05-27</td>\n",
       "      <td>0</td>\n",
       "      <td>0</td>\n",
       "    </tr>\n",
       "    <tr>\n",
       "      <th>3</th>\n",
       "      <td>2021-05-28</td>\n",
       "      <td>0</td>\n",
       "      <td>0</td>\n",
       "    </tr>\n",
       "    <tr>\n",
       "      <th>4</th>\n",
       "      <td>2021-05-29</td>\n",
       "      <td>0</td>\n",
       "      <td>0</td>\n",
       "    </tr>\n",
       "  </tbody>\n",
       "</table>\n",
       "</div>"
      ],
      "text/plain": [
       "        date  av_price_kwh  counter\n",
       "0 2021-05-25             0        0\n",
       "1 2021-05-26             0        0\n",
       "2 2021-05-27             0        0\n",
       "3 2021-05-28             0        0\n",
       "4 2021-05-29             0        0"
      ]
     },
     "execution_count": 77,
     "metadata": {},
     "output_type": "execute_result"
    }
   ],
   "source": [
    "hh_av = pd.DataFrame(pd.date_range(\"2021-05-25\", \"2022-10-15\"), columns=[\"date\"])\n",
    "hh_av[\"av_price_kwh\"] = 0\n",
    "hh_av[\"counter\"] = 0\n",
    "hh_av.head()"
   ]
  },
  {
   "cell_type": "code",
   "execution_count": null,
   "metadata": {},
   "outputs": [],
   "source": [
    "for row in household.index:\n",
    "    if row%10_000 == 0:\n",
    "        print(row, end = \" \")\n",
    "    for day in pd.date_range(household.date_valid_from.iloc[row], household.date_valid_to.iloc[row]):\n",
    "        hh_av_row = hh_av.loc[hh_av[\"date\"] == day].index\n",
    "        hh_av.loc[hh_av_row,\"av_price_kwh\"] += household.loc[row, \"price_kwh\"]\n",
    "        hh_av.loc[hh_av_row, \"counter\"] += 1\n",
    "\n",
    "hh_av[\"av_price_kwh\"] = hh_av[\"av_price_kwh\"]/hh_av[\"counter\"]"
   ]
  },
  {
   "cell_type": "code",
   "execution_count": 99,
   "metadata": {},
   "outputs": [],
   "source": [
    "hh_av = household[[\"price_kwh\", \"date_valid_from\"]].groupby(\"date_valid_from\").mean()"
   ]
  },
  {
   "cell_type": "code",
   "execution_count": 100,
   "metadata": {},
   "outputs": [
    {
     "data": {
      "text/html": [
       "<div>\n",
       "<style scoped>\n",
       "    .dataframe tbody tr th:only-of-type {\n",
       "        vertical-align: middle;\n",
       "    }\n",
       "\n",
       "    .dataframe tbody tr th {\n",
       "        vertical-align: top;\n",
       "    }\n",
       "\n",
       "    .dataframe thead th {\n",
       "        text-align: right;\n",
       "    }\n",
       "</style>\n",
       "<table border=\"1\" class=\"dataframe\">\n",
       "  <thead>\n",
       "    <tr style=\"text-align: right;\">\n",
       "      <th></th>\n",
       "      <th>price_kwh</th>\n",
       "    </tr>\n",
       "    <tr>\n",
       "      <th>date_valid_from</th>\n",
       "      <th></th>\n",
       "    </tr>\n",
       "  </thead>\n",
       "  <tbody>\n",
       "    <tr>\n",
       "      <th>2021-05-25</th>\n",
       "      <td>0.632290</td>\n",
       "    </tr>\n",
       "    <tr>\n",
       "      <th>2021-06-01</th>\n",
       "      <td>0.292767</td>\n",
       "    </tr>\n",
       "    <tr>\n",
       "      <th>2021-06-02</th>\n",
       "      <td>0.251103</td>\n",
       "    </tr>\n",
       "    <tr>\n",
       "      <th>2021-06-08</th>\n",
       "      <td>0.448020</td>\n",
       "    </tr>\n",
       "    <tr>\n",
       "      <th>2021-06-09</th>\n",
       "      <td>0.242389</td>\n",
       "    </tr>\n",
       "  </tbody>\n",
       "</table>\n",
       "</div>"
      ],
      "text/plain": [
       "                 price_kwh\n",
       "date_valid_from           \n",
       "2021-05-25        0.632290\n",
       "2021-06-01        0.292767\n",
       "2021-06-02        0.251103\n",
       "2021-06-08        0.448020\n",
       "2021-06-09        0.242389"
      ]
     },
     "execution_count": 100,
     "metadata": {},
     "output_type": "execute_result"
    }
   ],
   "source": [
    "hh_av.head()"
   ]
  },
  {
   "cell_type": "code",
   "execution_count": 104,
   "metadata": {},
   "outputs": [
    {
     "data": {
      "text/plain": [
       "[<matplotlib.lines.Line2D at 0x7fb094eed4f0>]"
      ]
     },
     "execution_count": 104,
     "metadata": {},
     "output_type": "execute_result"
    },
    {
     "data": {
      "image/png": "[encoded data removed]",
      "text/plain": [
       "<Figure size 640x480 with 1 Axes>"
      ]
     },
     "metadata": {},
     "output_type": "display_data"
    }
   ],
   "source": [
    "plt.plot(hh_av)"
   ]
  },
  {
   "attachments": {},
   "cell_type": "markdown",
   "metadata": {},
   "source": [
    "# Neural Network Build"
   ]
  },
  {
   "cell_type": "code",
   "execution_count": 123,
   "metadata": {},
   "outputs": [],
   "source": [
    "import tensorflow as tf\n",
    "from tensorflow import keras\n",
    "from tensorflow.keras import layers"
   ]
  },
  {
   "cell_type": "code",
   "execution_count": 124,
   "metadata": {},
   "outputs": [],
   "source": [
    "input=layers.Input([30,44])\n",
    "x = layers.LSTM(64)(input)\n",
    "output= layers.Dense(1)(x)\n",
    "\n"
   ]
  }
 ],
 "metadata": {
  "kernelspec": {
   "display_name": "first-env",
   "language": "python",
   "name": "python3"
  },
  "language_info": {
   "codemirror_mode": {
    "name": "ipython",
    "version": 3
   },
   "file_extension": ".py",
   "mimetype": "text/x-python",
   "name": "python",
   "nbconvert_exporter": "python",
   "pygments_lexer": "ipython3",
   "version": "3.9.15"
  },
  "orig_nbformat": 4,
  "vscode": {
   "interpreter": {
    "hash": "1adbfaa39e342c98ac6ff25648b01bcea2a38342be3cb6ac4fd601caab6c79df"
   }
  }
 },
 "nbformat": 4,
 "nbformat_minor": 2
}
