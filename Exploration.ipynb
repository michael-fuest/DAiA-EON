{
 "cells": [
  {
   "cell_type": "markdown",
   "id": "464740b9-832c-4e84-86bc-56fa994062e5",
   "metadata": {},
   "source": [
    "# Validity Periods"
   ]
  },
  {
   "cell_type": "code",
   "execution_count": null,
   "id": "202826af-ff7a-44e1-949a-51ae006fc79d",
   "metadata": {},
   "outputs": [],
   "source": [
    "#Looking at correlation between strat index and validity periods. A lower strategy index should translate to a shorter validity period."
   ]
  }
 ],
 "metadata": {
  "kernelspec": {
   "display_name": "Python 3",
   "language": "python",
   "name": "python3"
  },
  "language_info": {
   "codemirror_mode": {
    "name": "ipython",
    "version": 3
   },
   "file_extension": ".py",
   "mimetype": "text/x-python",
   "name": "python",
   "nbconvert_exporter": "python",
   "pygments_lexer": "ipython3",
   "version": "3.8.8"
  }
 },
 "nbformat": 4,
 "nbformat_minor": 5
}
