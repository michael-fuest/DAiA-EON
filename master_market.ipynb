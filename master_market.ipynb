{
 "cells": [
  {
   "cell_type": "code",
   "execution_count": 1,
   "metadata": {},
   "outputs": [],
   "source": [
    "import pandas as pd\n",
    "import numpy as np\n",
    "import matplotlib.pyplot as plt\n",
    "import seaborn as sns"
   ]
  },
  {
   "cell_type": "code",
   "execution_count": 2,
   "metadata": {},
   "outputs": [],
   "source": [
    "path = \"./data/\"\n",
    "base = \"eex_power_base_\"\n",
    "peak = \"eex_power_peak_\"\n",
    "periods = [\"d\", \"w\", \"wkd\", \"m\", \"q\", \"y\"]\n",
    "csv = \".csv\"\n",
    "spot = \"epex_spot_power.csv\""
   ]
  },
  {
   "cell_type": "code",
   "execution_count": 3,
   "metadata": {},
   "outputs": [],
   "source": [
    "df_base = pd.read_csv(path+spot, header = 0, parse_dates=[0], skiprows= lambda i: i>1932*24)"
   ]
  },
  {
   "cell_type": "code",
   "execution_count": 4,
   "metadata": {},
   "outputs": [
    {
     "name": "stderr",
     "output_type": "stream",
     "text": [
      "/tmp/ipykernel_18669/2474838109.py:1: FutureWarning: The default value of numeric_only in DataFrameGroupBy.mean is deprecated. In a future version, numeric_only will default to False. Either specify numeric_only or select only columns which should be valid for the function.\n",
      "  df_base = df_base.groupby(df_base[\"time\"].dt.date).mean().reset_index()\n"
     ]
    }
   ],
   "source": [
    "df_base = df_base.groupby(df_base[\"time\"].dt.date).mean().reset_index()"
   ]
  },
  {
   "cell_type": "code",
   "execution_count": 5,
   "metadata": {},
   "outputs": [],
   "source": [
    "df_base.columns = [\"date\",\"spot\"]"
   ]
  },
  {
   "cell_type": "code",
   "execution_count": 59,
   "metadata": {},
   "outputs": [],
   "source": [
    "#df_base = df_base[::-1]"
   ]
  },
  {
   "cell_type": "code",
   "execution_count": 6,
   "metadata": {},
   "outputs": [],
   "source": [
    "for period in periods:\n",
    "    df = pd.read_csv(path + base + period + csv, header=0, parse_dates = [0])\n",
    "    df[\"date\"] = df[\"date\"].dt.date\n",
    "    df_base = df_base.merge(df, how = \"inner\",  on=\"date\")"
   ]
  },
  {
   "cell_type": "code",
   "execution_count": 7,
   "metadata": {},
   "outputs": [],
   "source": [
    "def delete_NA(df, perc = 0.25):\n",
    "    columns = df.columns\n",
    "    len = df.shape[0]\n",
    "    dropped = []\n",
    "    for col in columns:\n",
    "        if df[col].isna().sum() > perc*len:\n",
    "            df.drop(col, inplace = True, axis = 1)\n",
    "            dropped.append(col)\n",
    "    return dropped\n"
   ]
  },
  {
   "cell_type": "code",
   "execution_count": 8,
   "metadata": {},
   "outputs": [
    {
     "data": {
      "text/plain": [
       "['d07',\n",
       " 'd08',\n",
       " 'd09',\n",
       " 'd10',\n",
       " 'd11',\n",
       " 'd12',\n",
       " 'd13',\n",
       " 'd14',\n",
       " 'w05',\n",
       " 'w06',\n",
       " 'wkd00',\n",
       " 'wkd03',\n",
       " 'wkd04',\n",
       " 'M10',\n",
       " 'q08',\n",
       " 'q09',\n",
       " 'q10',\n",
       " 'q11',\n",
       " 'q12',\n",
       " 'y07',\n",
       " 'y08',\n",
       " 'y09',\n",
       " 'y10']"
      ]
     },
     "execution_count": 8,
     "metadata": {},
     "output_type": "execute_result"
    }
   ],
   "source": [
    "delete_NA(df_base)"
   ]
  },
  {
   "cell_type": "code",
   "execution_count": 9,
   "metadata": {},
   "outputs": [
    {
     "data": {
      "text/plain": [
       "Index(['date', 'spot', 'd00', 'd01', 'd02', 'd03', 'd04', 'd05', 'd06', 'w00',\n",
       "       'w01', 'w02', 'w03', 'w04', 'wkd01', 'wkd02', 'M00', 'M01', 'M02',\n",
       "       'M03', 'M04', 'M05', 'M06', 'M07', 'M08', 'M09', 'q01', 'q02', 'q03',\n",
       "       'q04', 'q05', 'q06', 'q07', 'y01', 'y02', 'y03', 'y04', 'y05', 'y06'],\n",
       "      dtype='object')"
      ]
     },
     "execution_count": 9,
     "metadata": {},
     "output_type": "execute_result"
    }
   ],
   "source": [
    "df_base. columns"
   ]
  },
  {
   "cell_type": "code",
   "execution_count": 10,
   "metadata": {},
   "outputs": [
    {
     "data": {
      "text/plain": [
       "(1931, 39)"
      ]
     },
     "execution_count": 10,
     "metadata": {},
     "output_type": "execute_result"
    }
   ],
   "source": [
    "df_base.shape"
   ]
  },
  {
   "cell_type": "code",
   "execution_count": 11,
   "metadata": {},
   "outputs": [],
   "source": [
    "df_base.to_csv(path + \"market_master.csv\")"
   ]
  }
 ],
 "metadata": {
  "kernelspec": {
   "display_name": "first-env",
   "language": "python",
   "name": "python3"
  },
  "language_info": {
   "codemirror_mode": {
    "name": "ipython",
    "version": 3
   },
   "file_extension": ".py",
   "mimetype": "text/x-python",
   "name": "python",
   "nbconvert_exporter": "python",
   "pygments_lexer": "ipython3",
   "version": "3.9.15"
  },
  "orig_nbformat": 4,
  "vscode": {
   "interpreter": {
    "hash": "1adbfaa39e342c98ac6ff25648b01bcea2a38342be3cb6ac4fd601caab6c79df"
   }
  }
 },
 "nbformat": 4,
 "nbformat_minor": 2
}
