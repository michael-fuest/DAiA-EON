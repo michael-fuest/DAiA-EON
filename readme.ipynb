{
 "cells": [
  {
   "cell_type": "markdown",
   "id": "ecd0826f-6397-4252-90ff-9d255c20e19a",
   "metadata": {},
   "source": [
    "**readme file to be written**"
   ]
  },
  {
   "cell_type": "code",
   "execution_count": null,
   "id": "8f626cca-1870-4a88-a2ad-cb3f3ddeb4ad",
   "metadata": {},
   "outputs": [],
   "source": []
  }
 ],
 "metadata": {
  "kernelspec": {
   "display_name": "Python [conda env:root] *",
   "language": "python",
   "name": "conda-root-py"
  },
  "language_info": {
   "codemirror_mode": {
    "name": "ipython",
    "version": 3
   },
   "file_extension": ".py",
   "mimetype": "text/x-python",
   "name": "python",
   "nbconvert_exporter": "python",
   "pygments_lexer": "ipython3",
   "version": "3.9.13"
  }
 },
 "nbformat": 4,
 "nbformat_minor": 5
}
