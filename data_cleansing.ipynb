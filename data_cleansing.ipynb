{
 "cells": [
  {
   "cell_type": "markdown",
   "metadata": {},
   "source": [
    "# Data Cleansing\n",
    "Remove all duplicated values and keep only one (keep the smallest \"price_year_eur\" if different)\n"
   ]
  },
  {
   "cell_type": "code",
   "execution_count": 1,
   "id": "d054957b-9bd8-42e8-8510-4784a05538e8",
   "metadata": {},
   "outputs": [],
   "source": [
    "import pandas as pd"
   ]
  },
  {
   "cell_type": "code",
   "execution_count": 2,
   "id": "a0f4e1fa-def2-4ee4-94a0-a4b49073d175",
   "metadata": {},
   "outputs": [],
   "source": [
    "#path to the data folder, edit if necesssary\n",
    "path = \"./data/\"\n",
    "\n",
    "#filenames\n",
    "file_power = \"competitor_market_prices_power.csv\"\n",
    "file_gas = \"competitor_market_prices_gas.csv\""
   ]
  },
  {
   "cell_type": "code",
   "execution_count": 3,
   "metadata": {},
   "outputs": [],
   "source": [
    "#define the keys of the dataset\n",
    "keys = [\"date_valid_from\", \"date_valid_to\", \"consumption_range_kwh\", \"tariff\", \"post_code\", \"supplier\"]"
   ]
  },
  {
   "cell_type": "markdown",
   "metadata": {},
   "source": [
    "### Competitor Data Power"
   ]
  },
  {
   "cell_type": "code",
   "execution_count": 4,
   "id": "82f7900f-7308-4ad6-8331-ed7e01c4f82c",
   "metadata": {},
   "outputs": [],
   "source": [
    "#read csv\n",
    "competitors = pd.read_csv(path + file_power)"
   ]
  },
  {
   "cell_type": "code",
   "execution_count": 5,
   "metadata": {},
   "outputs": [
    {
     "data": {
      "text/plain": [
       "(68438566, 10)"
      ]
     },
     "execution_count": 5,
     "metadata": {},
     "output_type": "execute_result"
    }
   ],
   "source": [
    "competitors.shape"
   ]
  },
  {
   "cell_type": "code",
   "execution_count": 6,
   "id": "34a0eebe",
   "metadata": {},
   "outputs": [],
   "source": [
    "#delete duplicates by keys, for duplicated values keep the lower price\n",
    "competitors_clean = competitors.sort_values(by=\"price_year_eur\").drop_duplicates(subset=keys, keep=\"first\").sort_index()"
   ]
  },
  {
   "cell_type": "code",
   "execution_count": 7,
   "id": "b47f3eda",
   "metadata": {},
   "outputs": [
    {
     "data": {
      "text/plain": [
       "(32634489, 10)"
      ]
     },
     "execution_count": 7,
     "metadata": {},
     "output_type": "execute_result"
    }
   ],
   "source": [
    "competitors_clean.shape"
   ]
  },
  {
   "cell_type": "code",
   "execution_count": 12,
   "metadata": {},
   "outputs": [],
   "source": [
    "competitors_clean.to_csv(path + \"clean_\" + file_power)"
   ]
  },
  {
   "cell_type": "markdown",
   "metadata": {},
   "source": [
    "### Competitor Data Gas"
   ]
  },
  {
   "cell_type": "code",
   "execution_count": 13,
   "id": "82f7900f-7308-4ad6-8331-ed7e01c4f82c",
   "metadata": {},
   "outputs": [],
   "source": [
    "#read csv\n",
    "competitors = pd.read_csv(path + file_gas)"
   ]
  },
  {
   "cell_type": "code",
   "execution_count": 14,
   "metadata": {},
   "outputs": [
    {
     "data": {
      "text/plain": [
       "(29373267, 10)"
      ]
     },
     "execution_count": 14,
     "metadata": {},
     "output_type": "execute_result"
    }
   ],
   "source": [
    "competitors.shape"
   ]
  },
  {
   "cell_type": "code",
   "execution_count": 15,
   "id": "34a0eebe",
   "metadata": {},
   "outputs": [],
   "source": [
    "#delete duplicates by keys, for duplicated values keep the lower price\n",
    "competitors_clean = competitors.sort_values(by=\"price_year_eur\").drop_duplicates(subset=keys, keep=\"first\").sort_index()"
   ]
  },
  {
   "cell_type": "code",
   "execution_count": 16,
   "id": "b47f3eda",
   "metadata": {},
   "outputs": [
    {
     "data": {
      "text/plain": [
       "(17982685, 10)"
      ]
     },
     "execution_count": 16,
     "metadata": {},
     "output_type": "execute_result"
    }
   ],
   "source": [
    "competitors_clean.shape"
   ]
  },
  {
   "cell_type": "code",
   "execution_count": 17,
   "metadata": {},
   "outputs": [],
   "source": [
    "competitors_clean.to_csv(path + \"clean_\" + file_gas)"
   ]
  }
 ],
 "metadata": {
  "kernelspec": {
   "display_name": "Python 3.9.13 ('VSCode')",
   "language": "python",
   "name": "python3"
  },
  "language_info": {
   "codemirror_mode": {
    "name": "ipython",
    "version": 3
   },
   "file_extension": ".py",
   "mimetype": "text/x-python",
   "name": "python",
   "nbconvert_exporter": "python",
   "pygments_lexer": "ipython3",
   "version": "3.9.13"
  },
  "orig_nbformat": 4,
  "vscode": {
   "interpreter": {
    "hash": "c98576d870c3f5b1f0221538c7cb17e737c352c1b9ee81683ce9287fe48ff9c0"
   }
  }
 },
 "nbformat": 4,
 "nbformat_minor": 2
}
