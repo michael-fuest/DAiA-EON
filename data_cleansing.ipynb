{
 "cells": [
  {
   "cell_type": "markdown",
   "metadata": {},
   "source": [
    "# Data Cleansing\n",
    "Remove all duplicated values and keep only one (keep the smallest \"price_year_eur\" if different)\n"
   ]
  },
  {
   "cell_type": "code",
   "execution_count": null,
   "id": "d054957b-9bd8-42e8-8510-4784a05538e8",
   "metadata": {},
   "outputs": [],
   "source": [
    "import pandas as pd\n",
    "import numpy as np\n",
    "import matplotlib.pyplot as plt\n",
    "%matplotlib inline"
   ]
  },
  {
   "cell_type": "code",
   "execution_count": null,
   "id": "a0f4e1fa-def2-4ee4-94a0-a4b49073d175",
   "metadata": {},
   "outputs": [],
   "source": [
    "#path on which the data lays\n",
    "path = \"./data/competitor_market_prices_power.csv\""
   ]
  },
  {
   "cell_type": "code",
   "execution_count": null,
   "id": "82f7900f-7308-4ad6-8331-ed7e01c4f82c",
   "metadata": {},
   "outputs": [],
   "source": [
    "household_power = pd.read_csv(path)"
   ]
  },
  {
   "cell_type": "code",
   "execution_count": null,
   "id": "40f16b3f-8fac-46c4-a28d-6b17ab1de166",
   "metadata": {},
   "outputs": [
    {
     "name": "stdout",
     "output_type": "stream",
     "text": [
      "<class 'pandas.core.frame.DataFrame'>\n",
      "RangeIndex: 68438566 entries, 0 to 68438565\n",
      "Data columns (total 10 columns):\n",
      " #   Column                 Dtype  \n",
      "---  ------                 -----  \n",
      " 0   date_valid_from        object \n",
      " 1   date_valid_to          object \n",
      " 2   rank                   int64  \n",
      " 3   consumption_range_kwh  int64  \n",
      " 4   tariff                 object \n",
      " 5   supplier               object \n",
      " 6   price_year_eur         float64\n",
      " 7   post_code              int64  \n",
      " 8   city                   object \n",
      " 9   energy                 object \n",
      "dtypes: float64(1), int64(3), object(6)\n",
      "memory usage: 5.1+ GB\n"
     ]
    }
   ],
   "source": [
    "household_power.info()"
   ]
  }
 ],
 "metadata": {
  "kernelspec": {
   "display_name": "Python 3.9.13 ('VSCode')",
   "language": "python",
   "name": "python3"
  },
  "language_info": {
   "name": "python",
   "version": "3.9.13"
  },
  "orig_nbformat": 4,
  "vscode": {
   "interpreter": {
    "hash": "c98576d870c3f5b1f0221538c7cb17e737c352c1b9ee81683ce9287fe48ff9c0"
   }
  }
 },
 "nbformat": 4,
 "nbformat_minor": 2
}
