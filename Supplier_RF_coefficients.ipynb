{
 "cells": [
  {
   "cell_type": "code",
   "execution_count": 1,
   "id": "70937536",
   "metadata": {},
   "outputs": [],
   "source": [
    "import pandas as pd\n",
    "import numpy as np\n",
    "import matplotlib.pyplot as plt\n",
    "from sklearn.model_selection import train_test_split\n",
    "from sklearn.ensemble import RandomForestRegressor\n",
    "from sklearn.decomposition import PCA\n",
    "from sklearn.preprocessing import StandardScaler\n",
    "from sklearn.linear_model import LogisticRegression\n",
    "from sklearn.metrics import r2_score\n"
   ]
  },
  {
   "cell_type": "code",
   "execution_count": 2,
   "id": "44211ff6",
   "metadata": {},
   "outputs": [],
   "source": [
    "path = './data/'\n",
    "ll_data = 'leaf_level/group/'\n",
    "csv = '.csv'"
   ]
  },
  {
   "cell_type": "code",
   "execution_count": 3,
   "id": "063703b7",
   "metadata": {},
   "outputs": [
    {
     "data": {
      "text/html": [
       "<div>\n",
       "<style scoped>\n",
       "    .dataframe tbody tr th:only-of-type {\n",
       "        vertical-align: middle;\n",
       "    }\n",
       "\n",
       "    .dataframe tbody tr th {\n",
       "        vertical-align: top;\n",
       "    }\n",
       "\n",
       "    .dataframe thead th {\n",
       "        text-align: right;\n",
       "    }\n",
       "</style>\n",
       "<table border=\"1\" class=\"dataframe\">\n",
       "  <thead>\n",
       "    <tr style=\"text-align: right;\">\n",
       "      <th></th>\n",
       "      <th>date</th>\n",
       "      <th>spot_EWM7</th>\n",
       "      <th>spot_EWM30</th>\n",
       "      <th>spot_EWM60</th>\n",
       "      <th>spot_EWM100</th>\n",
       "      <th>base_d00_EWM7</th>\n",
       "      <th>base_d00_EWM30</th>\n",
       "      <th>base_d00_EWM60</th>\n",
       "      <th>base_d00_EWM100</th>\n",
       "      <th>base_d01_EWM7</th>\n",
       "      <th>...</th>\n",
       "      <th>peak_y04_EWM60</th>\n",
       "      <th>peak_y04_EWM100</th>\n",
       "      <th>peak_y05_EWM7</th>\n",
       "      <th>peak_y05_EWM30</th>\n",
       "      <th>peak_y05_EWM60</th>\n",
       "      <th>peak_y05_EWM100</th>\n",
       "      <th>peak_y06_EWM7</th>\n",
       "      <th>peak_y06_EWM30</th>\n",
       "      <th>peak_y06_EWM60</th>\n",
       "      <th>peak_y06_EWM100</th>\n",
       "    </tr>\n",
       "  </thead>\n",
       "  <tbody>\n",
       "    <tr>\n",
       "      <th>0</th>\n",
       "      <td>2021-05-25</td>\n",
       "      <td>0.035688</td>\n",
       "      <td>0.049980</td>\n",
       "      <td>0.051158</td>\n",
       "      <td>0.050463</td>\n",
       "      <td>0.039654</td>\n",
       "      <td>0.051701</td>\n",
       "      <td>0.052374</td>\n",
       "      <td>0.051457</td>\n",
       "      <td>0.044685</td>\n",
       "      <td>...</td>\n",
       "      <td>0.065687</td>\n",
       "      <td>0.064227</td>\n",
       "      <td>0.068391</td>\n",
       "      <td>0.067111</td>\n",
       "      <td>0.065602</td>\n",
       "      <td>0.064314</td>\n",
       "      <td>0.068500</td>\n",
       "      <td>0.067368</td>\n",
       "      <td>0.065892</td>\n",
       "      <td>0.064629</td>\n",
       "    </tr>\n",
       "    <tr>\n",
       "      <th>1</th>\n",
       "      <td>2021-05-26</td>\n",
       "      <td>0.041711</td>\n",
       "      <td>0.050612</td>\n",
       "      <td>0.051441</td>\n",
       "      <td>0.050647</td>\n",
       "      <td>0.044685</td>\n",
       "      <td>0.052223</td>\n",
       "      <td>0.052617</td>\n",
       "      <td>0.051622</td>\n",
       "      <td>0.049917</td>\n",
       "      <td>...</td>\n",
       "      <td>0.065803</td>\n",
       "      <td>0.064326</td>\n",
       "      <td>0.068550</td>\n",
       "      <td>0.067234</td>\n",
       "      <td>0.065714</td>\n",
       "      <td>0.064407</td>\n",
       "      <td>0.068712</td>\n",
       "      <td>0.067496</td>\n",
       "      <td>0.066006</td>\n",
       "      <td>0.064722</td>\n",
       "    </tr>\n",
       "    <tr>\n",
       "      <th>2</th>\n",
       "      <td>2021-05-27</td>\n",
       "      <td>0.047685</td>\n",
       "      <td>0.051580</td>\n",
       "      <td>0.051905</td>\n",
       "      <td>0.050943</td>\n",
       "      <td>0.049917</td>\n",
       "      <td>0.053086</td>\n",
       "      <td>0.053043</td>\n",
       "      <td>0.051899</td>\n",
       "      <td>0.055380</td>\n",
       "      <td>...</td>\n",
       "      <td>0.065924</td>\n",
       "      <td>0.064429</td>\n",
       "      <td>0.068613</td>\n",
       "      <td>0.067335</td>\n",
       "      <td>0.065815</td>\n",
       "      <td>0.064494</td>\n",
       "      <td>0.068772</td>\n",
       "      <td>0.067590</td>\n",
       "      <td>0.066102</td>\n",
       "      <td>0.064806</td>\n",
       "    </tr>\n",
       "    <tr>\n",
       "      <th>3</th>\n",
       "      <td>2021-05-28</td>\n",
       "      <td>0.053705</td>\n",
       "      <td>0.052882</td>\n",
       "      <td>0.052556</td>\n",
       "      <td>0.051356</td>\n",
       "      <td>0.055380</td>\n",
       "      <td>0.054292</td>\n",
       "      <td>0.053657</td>\n",
       "      <td>0.052292</td>\n",
       "      <td>0.059935</td>\n",
       "      <td>...</td>\n",
       "      <td>0.066021</td>\n",
       "      <td>0.064517</td>\n",
       "      <td>0.068692</td>\n",
       "      <td>0.067438</td>\n",
       "      <td>0.065918</td>\n",
       "      <td>0.064582</td>\n",
       "      <td>0.068904</td>\n",
       "      <td>0.067700</td>\n",
       "      <td>0.066207</td>\n",
       "      <td>0.064895</td>\n",
       "    </tr>\n",
       "    <tr>\n",
       "      <th>4</th>\n",
       "      <td>2021-05-29</td>\n",
       "      <td>0.058679</td>\n",
       "      <td>0.054219</td>\n",
       "      <td>0.053246</td>\n",
       "      <td>0.051796</td>\n",
       "      <td>0.059935</td>\n",
       "      <td>0.055537</td>\n",
       "      <td>0.054311</td>\n",
       "      <td>0.052714</td>\n",
       "      <td>0.059074</td>\n",
       "      <td>...</td>\n",
       "      <td>0.066089</td>\n",
       "      <td>0.064588</td>\n",
       "      <td>0.068669</td>\n",
       "      <td>0.067513</td>\n",
       "      <td>0.066006</td>\n",
       "      <td>0.064661</td>\n",
       "      <td>0.068923</td>\n",
       "      <td>0.067783</td>\n",
       "      <td>0.066298</td>\n",
       "      <td>0.064976</td>\n",
       "    </tr>\n",
       "    <tr>\n",
       "      <th>...</th>\n",
       "      <td>...</td>\n",
       "      <td>...</td>\n",
       "      <td>...</td>\n",
       "      <td>...</td>\n",
       "      <td>...</td>\n",
       "      <td>...</td>\n",
       "      <td>...</td>\n",
       "      <td>...</td>\n",
       "      <td>...</td>\n",
       "      <td>...</td>\n",
       "      <td>...</td>\n",
       "      <td>...</td>\n",
       "      <td>...</td>\n",
       "      <td>...</td>\n",
       "      <td>...</td>\n",
       "      <td>...</td>\n",
       "      <td>...</td>\n",
       "      <td>...</td>\n",
       "      <td>...</td>\n",
       "      <td>...</td>\n",
       "      <td>...</td>\n",
       "    </tr>\n",
       "    <tr>\n",
       "      <th>503</th>\n",
       "      <td>2022-10-10</td>\n",
       "      <td>0.161124</td>\n",
       "      <td>0.261446</td>\n",
       "      <td>0.311049</td>\n",
       "      <td>0.318351</td>\n",
       "      <td>0.161124</td>\n",
       "      <td>0.261447</td>\n",
       "      <td>0.311049</td>\n",
       "      <td>0.318357</td>\n",
       "      <td>0.161366</td>\n",
       "      <td>...</td>\n",
       "      <td>0.205437</td>\n",
       "      <td>0.198425</td>\n",
       "      <td>0.169934</td>\n",
       "      <td>0.166714</td>\n",
       "      <td>0.164490</td>\n",
       "      <td>0.159582</td>\n",
       "      <td>0.149933</td>\n",
       "      <td>0.146538</td>\n",
       "      <td>0.145526</td>\n",
       "      <td>0.142793</td>\n",
       "    </tr>\n",
       "    <tr>\n",
       "      <th>504</th>\n",
       "      <td>2022-10-11</td>\n",
       "      <td>0.161366</td>\n",
       "      <td>0.255036</td>\n",
       "      <td>0.306165</td>\n",
       "      <td>0.315257</td>\n",
       "      <td>0.161366</td>\n",
       "      <td>0.255037</td>\n",
       "      <td>0.306165</td>\n",
       "      <td>0.315262</td>\n",
       "      <td>0.185992</td>\n",
       "      <td>...</td>\n",
       "      <td>0.205706</td>\n",
       "      <td>0.198726</td>\n",
       "      <td>0.171106</td>\n",
       "      <td>0.167224</td>\n",
       "      <td>0.164822</td>\n",
       "      <td>0.159880</td>\n",
       "      <td>0.151105</td>\n",
       "      <td>0.147059</td>\n",
       "      <td>0.145824</td>\n",
       "      <td>0.143027</td>\n",
       "    </tr>\n",
       "    <tr>\n",
       "      <th>505</th>\n",
       "      <td>2022-10-12</td>\n",
       "      <td>0.185993</td>\n",
       "      <td>0.255348</td>\n",
       "      <td>0.304647</td>\n",
       "      <td>0.314160</td>\n",
       "      <td>0.185992</td>\n",
       "      <td>0.255348</td>\n",
       "      <td>0.304648</td>\n",
       "      <td>0.314165</td>\n",
       "      <td>0.210129</td>\n",
       "      <td>...</td>\n",
       "      <td>0.205915</td>\n",
       "      <td>0.198990</td>\n",
       "      <td>0.171594</td>\n",
       "      <td>0.167601</td>\n",
       "      <td>0.165092</td>\n",
       "      <td>0.160141</td>\n",
       "      <td>0.151594</td>\n",
       "      <td>0.147447</td>\n",
       "      <td>0.146062</td>\n",
       "      <td>0.143226</td>\n",
       "    </tr>\n",
       "    <tr>\n",
       "      <th>506</th>\n",
       "      <td>2022-10-13</td>\n",
       "      <td>0.210129</td>\n",
       "      <td>0.257102</td>\n",
       "      <td>0.303922</td>\n",
       "      <td>0.313534</td>\n",
       "      <td>0.210129</td>\n",
       "      <td>0.257103</td>\n",
       "      <td>0.303923</td>\n",
       "      <td>0.313539</td>\n",
       "      <td>0.221962</td>\n",
       "      <td>...</td>\n",
       "      <td>0.206111</td>\n",
       "      <td>0.199245</td>\n",
       "      <td>0.171918</td>\n",
       "      <td>0.167942</td>\n",
       "      <td>0.165348</td>\n",
       "      <td>0.160394</td>\n",
       "      <td>0.151918</td>\n",
       "      <td>0.147798</td>\n",
       "      <td>0.146285</td>\n",
       "      <td>0.143417</td>\n",
       "    </tr>\n",
       "    <tr>\n",
       "      <th>507</th>\n",
       "      <td>2022-10-14</td>\n",
       "      <td>0.221960</td>\n",
       "      <td>0.257125</td>\n",
       "      <td>0.302399</td>\n",
       "      <td>0.312424</td>\n",
       "      <td>0.221962</td>\n",
       "      <td>0.257126</td>\n",
       "      <td>0.302399</td>\n",
       "      <td>0.312429</td>\n",
       "      <td>0.231634</td>\n",
       "      <td>...</td>\n",
       "      <td>0.206021</td>\n",
       "      <td>0.199327</td>\n",
       "      <td>0.170909</td>\n",
       "      <td>0.167938</td>\n",
       "      <td>0.165431</td>\n",
       "      <td>0.160542</td>\n",
       "      <td>0.150908</td>\n",
       "      <td>0.147803</td>\n",
       "      <td>0.146338</td>\n",
       "      <td>0.143506</td>\n",
       "    </tr>\n",
       "  </tbody>\n",
       "</table>\n",
       "<p>508 rows × 309 columns</p>\n",
       "</div>"
      ],
      "text/plain": [
       "          date  spot_EWM7  spot_EWM30  spot_EWM60  spot_EWM100  base_d00_EWM7  \\\n",
       "0   2021-05-25   0.035688    0.049980    0.051158     0.050463       0.039654   \n",
       "1   2021-05-26   0.041711    0.050612    0.051441     0.050647       0.044685   \n",
       "2   2021-05-27   0.047685    0.051580    0.051905     0.050943       0.049917   \n",
       "3   2021-05-28   0.053705    0.052882    0.052556     0.051356       0.055380   \n",
       "4   2021-05-29   0.058679    0.054219    0.053246     0.051796       0.059935   \n",
       "..         ...        ...         ...         ...          ...            ...   \n",
       "503 2022-10-10   0.161124    0.261446    0.311049     0.318351       0.161124   \n",
       "504 2022-10-11   0.161366    0.255036    0.306165     0.315257       0.161366   \n",
       "505 2022-10-12   0.185993    0.255348    0.304647     0.314160       0.185992   \n",
       "506 2022-10-13   0.210129    0.257102    0.303922     0.313534       0.210129   \n",
       "507 2022-10-14   0.221960    0.257125    0.302399     0.312424       0.221962   \n",
       "\n",
       "     base_d00_EWM30  base_d00_EWM60  base_d00_EWM100  base_d01_EWM7  ...  \\\n",
       "0          0.051701        0.052374         0.051457       0.044685  ...   \n",
       "1          0.052223        0.052617         0.051622       0.049917  ...   \n",
       "2          0.053086        0.053043         0.051899       0.055380  ...   \n",
       "3          0.054292        0.053657         0.052292       0.059935  ...   \n",
       "4          0.055537        0.054311         0.052714       0.059074  ...   \n",
       "..              ...             ...              ...            ...  ...   \n",
       "503        0.261447        0.311049         0.318357       0.161366  ...   \n",
       "504        0.255037        0.306165         0.315262       0.185992  ...   \n",
       "505        0.255348        0.304648         0.314165       0.210129  ...   \n",
       "506        0.257103        0.303923         0.313539       0.221962  ...   \n",
       "507        0.257126        0.302399         0.312429       0.231634  ...   \n",
       "\n",
       "     peak_y04_EWM60  peak_y04_EWM100  peak_y05_EWM7  peak_y05_EWM30  \\\n",
       "0          0.065687         0.064227       0.068391        0.067111   \n",
       "1          0.065803         0.064326       0.068550        0.067234   \n",
       "2          0.065924         0.064429       0.068613        0.067335   \n",
       "3          0.066021         0.064517       0.068692        0.067438   \n",
       "4          0.066089         0.064588       0.068669        0.067513   \n",
       "..              ...              ...            ...             ...   \n",
       "503        0.205437         0.198425       0.169934        0.166714   \n",
       "504        0.205706         0.198726       0.171106        0.167224   \n",
       "505        0.205915         0.198990       0.171594        0.167601   \n",
       "506        0.206111         0.199245       0.171918        0.167942   \n",
       "507        0.206021         0.199327       0.170909        0.167938   \n",
       "\n",
       "     peak_y05_EWM60  peak_y05_EWM100  peak_y06_EWM7  peak_y06_EWM30  \\\n",
       "0          0.065602         0.064314       0.068500        0.067368   \n",
       "1          0.065714         0.064407       0.068712        0.067496   \n",
       "2          0.065815         0.064494       0.068772        0.067590   \n",
       "3          0.065918         0.064582       0.068904        0.067700   \n",
       "4          0.066006         0.064661       0.068923        0.067783   \n",
       "..              ...              ...            ...             ...   \n",
       "503        0.164490         0.159582       0.149933        0.146538   \n",
       "504        0.164822         0.159880       0.151105        0.147059   \n",
       "505        0.165092         0.160141       0.151594        0.147447   \n",
       "506        0.165348         0.160394       0.151918        0.147798   \n",
       "507        0.165431         0.160542       0.150908        0.147803   \n",
       "\n",
       "     peak_y06_EWM60  peak_y06_EWM100  \n",
       "0          0.065892         0.064629  \n",
       "1          0.066006         0.064722  \n",
       "2          0.066102         0.064806  \n",
       "3          0.066207         0.064895  \n",
       "4          0.066298         0.064976  \n",
       "..              ...              ...  \n",
       "503        0.145526         0.142793  \n",
       "504        0.145824         0.143027  \n",
       "505        0.146062         0.143226  \n",
       "506        0.146285         0.143417  \n",
       "507        0.146338         0.143506  \n",
       "\n",
       "[508 rows x 309 columns]"
      ]
     },
     "execution_count": 3,
     "metadata": {},
     "output_type": "execute_result"
    }
   ],
   "source": [
    "mkt_data = pd.read_csv(path+'power_market_EWM'+csv, parse_dates = [\"date\"])\n",
    "mkt_data.sort_values(\"date\", inplace=True)\n",
    "mkt_data.drop('Unnamed: 0', axis=1, inplace=True)\n",
    "mkt_data.set_index('date', inplace=True)\n",
    "mkt_data = mkt_data/1000\n",
    "mkt_data.reset_index(inplace=True)\n",
    "mkt_data"
   ]
  },
  {
   "cell_type": "code",
   "execution_count": 4,
   "id": "dc40610d",
   "metadata": {},
   "outputs": [],
   "source": [
    "files = pd.read_csv(path+'supplier_list'+csv)\n",
    "files.drop(columns = ['Unnamed: 0'], inplace = True)\n",
    "files.rename(columns = {\"0\" : \"File_name\"}, inplace=True)"
   ]
  },
  {
   "cell_type": "code",
   "execution_count": 5,
   "id": "306ce89f",
   "metadata": {},
   "outputs": [],
   "source": [
    "data_files = files['File_name'].to_list()"
   ]
  },
  {
   "cell_type": "code",
   "execution_count": 6,
   "id": "d94c0b72",
   "metadata": {},
   "outputs": [],
   "source": [
    "supp_reg_coeff_list = []"
   ]
  },
  {
   "cell_type": "code",
   "execution_count": 7,
   "id": "5ace1110",
   "metadata": {},
   "outputs": [
    {
     "name": "stderr",
     "output_type": "stream",
     "text": [
      "C:\\Users\\Nutzer\\AppData\\Local\\Temp\\ipykernel_8944\\241660264.py:10: FutureWarning: The default value of numeric_only in DataFrame.corr is deprecated. In a future version, it will default to False. Select only valid columns or specify the value of numeric_only to silence this warning.\n",
      "  supp_data.corr()\n",
      "C:\\Users\\Nutzer\\AppData\\Local\\Programs\\Python\\Python311\\Lib\\site-packages\\sklearn\\ensemble\\_forest.py:416: FutureWarning: `max_features='auto'` has been deprecated in 1.1 and will be removed in 1.3. To keep the past behaviour, explicitly set `max_features=1.0` or remove this parameter as it is also the default value for RandomForestRegressors and ExtraTreesRegressors.\n",
      "  warn(\n"
     ]
    },
    {
     "name": "stdout",
     "output_type": "stream",
     "text": [
      "Mean absolute error: 0.02\n",
      "R squared: 0.7415090377372644\n",
      "Criador.csv\n",
      "0\n",
      "Mean absolute error: 0.00\n",
      "R squared: 0.9669712963183428\n"
     ]
    },
    {
     "name": "stderr",
     "output_type": "stream",
     "text": [
      "C:\\Users\\Nutzer\\AppData\\Local\\Temp\\ipykernel_8944\\241660264.py:10: FutureWarning: The default value of numeric_only in DataFrame.corr is deprecated. In a future version, it will default to False. Select only valid columns or specify the value of numeric_only to silence this warning.\n",
      "  supp_data.corr()\n",
      "C:\\Users\\Nutzer\\AppData\\Local\\Programs\\Python\\Python311\\Lib\\site-packages\\sklearn\\ensemble\\_forest.py:416: FutureWarning: `max_features='auto'` has been deprecated in 1.1 and will be removed in 1.3. To keep the past behaviour, explicitly set `max_features=1.0` or remove this parameter as it is also the default value for RandomForestRegressors and ExtraTreesRegressors.\n",
      "  warn(\n"
     ]
    },
    {
     "name": "stdout",
     "output_type": "stream",
     "text": [
      "Knik.csv\n",
      "1\n"
     ]
    },
    {
     "name": "stderr",
     "output_type": "stream",
     "text": [
      "C:\\Users\\Nutzer\\AppData\\Local\\Temp\\ipykernel_8944\\241660264.py:10: FutureWarning: The default value of numeric_only in DataFrame.corr is deprecated. In a future version, it will default to False. Select only valid columns or specify the value of numeric_only to silence this warning.\n",
      "  supp_data.corr()\n",
      "C:\\Users\\Nutzer\\AppData\\Local\\Programs\\Python\\Python311\\Lib\\site-packages\\sklearn\\ensemble\\_forest.py:416: FutureWarning: `max_features='auto'` has been deprecated in 1.1 and will be removed in 1.3. To keep the past behaviour, explicitly set `max_features=1.0` or remove this parameter as it is also the default value for RandomForestRegressors and ExtraTreesRegressors.\n",
      "  warn(\n"
     ]
    },
    {
     "name": "stdout",
     "output_type": "stream",
     "text": [
      "Mean absolute error: 0.00\n",
      "R squared: 0.9785484533848938\n",
      "Galerne.csv\n",
      "2\n"
     ]
    },
    {
     "name": "stderr",
     "output_type": "stream",
     "text": [
      "C:\\Users\\Nutzer\\AppData\\Local\\Temp\\ipykernel_8944\\241660264.py:10: FutureWarning: The default value of numeric_only in DataFrame.corr is deprecated. In a future version, it will default to False. Select only valid columns or specify the value of numeric_only to silence this warning.\n",
      "  supp_data.corr()\n",
      "C:\\Users\\Nutzer\\AppData\\Local\\Programs\\Python\\Python311\\Lib\\site-packages\\sklearn\\ensemble\\_forest.py:416: FutureWarning: `max_features='auto'` has been deprecated in 1.1 and will be removed in 1.3. To keep the past behaviour, explicitly set `max_features=1.0` or remove this parameter as it is also the default value for RandomForestRegressors and ExtraTreesRegressors.\n",
      "  warn(\n"
     ]
    },
    {
     "name": "stdout",
     "output_type": "stream",
     "text": [
      "Mean absolute error: 0.00\n",
      "R squared: 0.9717259894851004\n",
      "Gregale.csv\n",
      "3\n"
     ]
    },
    {
     "name": "stderr",
     "output_type": "stream",
     "text": [
      "C:\\Users\\Nutzer\\AppData\\Local\\Temp\\ipykernel_8944\\241660264.py:10: FutureWarning: The default value of numeric_only in DataFrame.corr is deprecated. In a future version, it will default to False. Select only valid columns or specify the value of numeric_only to silence this warning.\n",
      "  supp_data.corr()\n",
      "C:\\Users\\Nutzer\\AppData\\Local\\Programs\\Python\\Python311\\Lib\\site-packages\\sklearn\\ensemble\\_forest.py:416: FutureWarning: `max_features='auto'` has been deprecated in 1.1 and will be removed in 1.3. To keep the past behaviour, explicitly set `max_features=1.0` or remove this parameter as it is also the default value for RandomForestRegressors and ExtraTreesRegressors.\n",
      "  warn(\n"
     ]
    },
    {
     "name": "stdout",
     "output_type": "stream",
     "text": [
      "Mean absolute error: 0.00\n",
      "R squared: 0.9955117533059981\n",
      "Ko.csv\n",
      "4\n",
      "5\n"
     ]
    },
    {
     "name": "stderr",
     "output_type": "stream",
     "text": [
      "C:\\Users\\Nutzer\\AppData\\Local\\Temp\\ipykernel_8944\\241660264.py:10: FutureWarning: The default value of numeric_only in DataFrame.corr is deprecated. In a future version, it will default to False. Select only valid columns or specify the value of numeric_only to silence this warning.\n",
      "  supp_data.corr()\n",
      "C:\\Users\\Nutzer\\AppData\\Local\\Programs\\Python\\Python311\\Lib\\site-packages\\sklearn\\ensemble\\_forest.py:416: FutureWarning: `max_features='auto'` has been deprecated in 1.1 and will be removed in 1.3. To keep the past behaviour, explicitly set `max_features=1.0` or remove this parameter as it is also the default value for RandomForestRegressors and ExtraTreesRegressors.\n",
      "  warn(\n"
     ]
    },
    {
     "name": "stdout",
     "output_type": "stream",
     "text": [
      "Mean absolute error: 0.01\n",
      "R squared: 0.9911624468699957\n",
      "Pulenat.csv\n",
      "6\n"
     ]
    },
    {
     "name": "stderr",
     "output_type": "stream",
     "text": [
      "C:\\Users\\Nutzer\\AppData\\Local\\Temp\\ipykernel_8944\\241660264.py:10: FutureWarning: The default value of numeric_only in DataFrame.corr is deprecated. In a future version, it will default to False. Select only valid columns or specify the value of numeric_only to silence this warning.\n",
      "  supp_data.corr()\n",
      "C:\\Users\\Nutzer\\AppData\\Local\\Programs\\Python\\Python311\\Lib\\site-packages\\sklearn\\ensemble\\_forest.py:416: FutureWarning: `max_features='auto'` has been deprecated in 1.1 and will be removed in 1.3. To keep the past behaviour, explicitly set `max_features=1.0` or remove this parameter as it is also the default value for RandomForestRegressors and ExtraTreesRegressors.\n",
      "  warn(\n"
     ]
    },
    {
     "name": "stdout",
     "output_type": "stream",
     "text": [
      "Mean absolute error: 0.00\n",
      "R squared: 0.9916073935807183\n",
      "Auster.csv\n",
      "7\n",
      "8\n",
      "9\n"
     ]
    },
    {
     "name": "stderr",
     "output_type": "stream",
     "text": [
      "C:\\Users\\Nutzer\\AppData\\Local\\Temp\\ipykernel_8944\\241660264.py:10: FutureWarning: The default value of numeric_only in DataFrame.corr is deprecated. In a future version, it will default to False. Select only valid columns or specify the value of numeric_only to silence this warning.\n",
      "  supp_data.corr()\n",
      "C:\\Users\\Nutzer\\AppData\\Local\\Programs\\Python\\Python311\\Lib\\site-packages\\sklearn\\ensemble\\_forest.py:416: FutureWarning: `max_features='auto'` has been deprecated in 1.1 and will be removed in 1.3. To keep the past behaviour, explicitly set `max_features=1.0` or remove this parameter as it is also the default value for RandomForestRegressors and ExtraTreesRegressors.\n",
      "  warn(\n"
     ]
    },
    {
     "name": "stdout",
     "output_type": "stream",
     "text": [
      "Mean absolute error: 0.01\n",
      "R squared: 0.9608361067663194\n",
      "Belat.csv\n",
      "10\n",
      "11\n"
     ]
    },
    {
     "name": "stderr",
     "output_type": "stream",
     "text": [
      "C:\\Users\\Nutzer\\AppData\\Local\\Temp\\ipykernel_8944\\241660264.py:10: FutureWarning: The default value of numeric_only in DataFrame.corr is deprecated. In a future version, it will default to False. Select only valid columns or specify the value of numeric_only to silence this warning.\n",
      "  supp_data.corr()\n",
      "C:\\Users\\Nutzer\\AppData\\Local\\Programs\\Python\\Python311\\Lib\\site-packages\\sklearn\\ensemble\\_forest.py:416: FutureWarning: `max_features='auto'` has been deprecated in 1.1 and will be removed in 1.3. To keep the past behaviour, explicitly set `max_features=1.0` or remove this parameter as it is also the default value for RandomForestRegressors and ExtraTreesRegressors.\n",
      "  warn(\n"
     ]
    },
    {
     "name": "stdout",
     "output_type": "stream",
     "text": [
      "Mean absolute error: 0.01\n",
      "R squared: 0.9811080487043605\n",
      "Sarma.csv\n",
      "12\n"
     ]
    },
    {
     "name": "stderr",
     "output_type": "stream",
     "text": [
      "C:\\Users\\Nutzer\\AppData\\Local\\Temp\\ipykernel_8944\\241660264.py:10: FutureWarning: The default value of numeric_only in DataFrame.corr is deprecated. In a future version, it will default to False. Select only valid columns or specify the value of numeric_only to silence this warning.\n",
      "  supp_data.corr()\n",
      "C:\\Users\\Nutzer\\AppData\\Local\\Programs\\Python\\Python311\\Lib\\site-packages\\sklearn\\ensemble\\_forest.py:416: FutureWarning: `max_features='auto'` has been deprecated in 1.1 and will be removed in 1.3. To keep the past behaviour, explicitly set `max_features=1.0` or remove this parameter as it is also the default value for RandomForestRegressors and ExtraTreesRegressors.\n",
      "  warn(\n"
     ]
    },
    {
     "name": "stdout",
     "output_type": "stream",
     "text": [
      "Mean absolute error: 0.01\n",
      "R squared: 0.9343640907604536\n",
      "Downburst.csv\n",
      "13\n",
      "14\n"
     ]
    },
    {
     "name": "stderr",
     "output_type": "stream",
     "text": [
      "C:\\Users\\Nutzer\\AppData\\Local\\Temp\\ipykernel_8944\\241660264.py:10: FutureWarning: The default value of numeric_only in DataFrame.corr is deprecated. In a future version, it will default to False. Select only valid columns or specify the value of numeric_only to silence this warning.\n",
      "  supp_data.corr()\n",
      "C:\\Users\\Nutzer\\AppData\\Local\\Programs\\Python\\Python311\\Lib\\site-packages\\sklearn\\ensemble\\_forest.py:416: FutureWarning: `max_features='auto'` has been deprecated in 1.1 and will be removed in 1.3. To keep the past behaviour, explicitly set `max_features=1.0` or remove this parameter as it is also the default value for RandomForestRegressors and ExtraTreesRegressors.\n",
      "  warn(\n"
     ]
    },
    {
     "name": "stdout",
     "output_type": "stream",
     "text": [
      "Mean absolute error: 0.02\n",
      "R squared: 0.8674813358011069\n",
      "Kusi.csv\n",
      "15\n"
     ]
    },
    {
     "name": "stderr",
     "output_type": "stream",
     "text": [
      "C:\\Users\\Nutzer\\AppData\\Local\\Temp\\ipykernel_8944\\241660264.py:10: FutureWarning: The default value of numeric_only in DataFrame.corr is deprecated. In a future version, it will default to False. Select only valid columns or specify the value of numeric_only to silence this warning.\n",
      "  supp_data.corr()\n",
      "C:\\Users\\Nutzer\\AppData\\Local\\Programs\\Python\\Python311\\Lib\\site-packages\\sklearn\\ensemble\\_forest.py:416: FutureWarning: `max_features='auto'` has been deprecated in 1.1 and will be removed in 1.3. To keep the past behaviour, explicitly set `max_features=1.0` or remove this parameter as it is also the default value for RandomForestRegressors and ExtraTreesRegressors.\n",
      "  warn(\n"
     ]
    },
    {
     "name": "stdout",
     "output_type": "stream",
     "text": [
      "Mean absolute error: 0.01\n",
      "R squared: 0.9924177686394343\n",
      "Canterbury.csv\n",
      "16\n",
      "17\n"
     ]
    },
    {
     "name": "stderr",
     "output_type": "stream",
     "text": [
      "C:\\Users\\Nutzer\\AppData\\Local\\Temp\\ipykernel_8944\\241660264.py:10: FutureWarning: The default value of numeric_only in DataFrame.corr is deprecated. In a future version, it will default to False. Select only valid columns or specify the value of numeric_only to silence this warning.\n",
      "  supp_data.corr()\n",
      "C:\\Users\\Nutzer\\AppData\\Local\\Programs\\Python\\Python311\\Lib\\site-packages\\sklearn\\ensemble\\_forest.py:416: FutureWarning: `max_features='auto'` has been deprecated in 1.1 and will be removed in 1.3. To keep the past behaviour, explicitly set `max_features=1.0` or remove this parameter as it is also the default value for RandomForestRegressors and ExtraTreesRegressors.\n",
      "  warn(\n"
     ]
    },
    {
     "name": "stdout",
     "output_type": "stream",
     "text": [
      "Mean absolute error: 0.01\n",
      "R squared: 0.8391471858629156\n",
      "Aquilo.csv\n",
      "18\n"
     ]
    },
    {
     "name": "stderr",
     "output_type": "stream",
     "text": [
      "C:\\Users\\Nutzer\\AppData\\Local\\Temp\\ipykernel_8944\\241660264.py:10: FutureWarning: The default value of numeric_only in DataFrame.corr is deprecated. In a future version, it will default to False. Select only valid columns or specify the value of numeric_only to silence this warning.\n",
      "  supp_data.corr()\n",
      "C:\\Users\\Nutzer\\AppData\\Local\\Programs\\Python\\Python311\\Lib\\site-packages\\sklearn\\ensemble\\_forest.py:416: FutureWarning: `max_features='auto'` has been deprecated in 1.1 and will be removed in 1.3. To keep the past behaviour, explicitly set `max_features=1.0` or remove this parameter as it is also the default value for RandomForestRegressors and ExtraTreesRegressors.\n",
      "  warn(\n"
     ]
    },
    {
     "name": "stdout",
     "output_type": "stream",
     "text": [
      "Mean absolute error: 0.01\n",
      "R squared: 0.9536627395020639\n",
      "Elvegust.csv\n",
      "19\n",
      "20\n"
     ]
    },
    {
     "name": "stderr",
     "output_type": "stream",
     "text": [
      "C:\\Users\\Nutzer\\AppData\\Local\\Temp\\ipykernel_8944\\241660264.py:10: FutureWarning: The default value of numeric_only in DataFrame.corr is deprecated. In a future version, it will default to False. Select only valid columns or specify the value of numeric_only to silence this warning.\n",
      "  supp_data.corr()\n",
      "C:\\Users\\Nutzer\\AppData\\Local\\Programs\\Python\\Python311\\Lib\\site-packages\\sklearn\\ensemble\\_forest.py:416: FutureWarning: `max_features='auto'` has been deprecated in 1.1 and will be removed in 1.3. To keep the past behaviour, explicitly set `max_features=1.0` or remove this parameter as it is also the default value for RandomForestRegressors and ExtraTreesRegressors.\n",
      "  warn(\n"
     ]
    },
    {
     "name": "stdout",
     "output_type": "stream",
     "text": [
      "Mean absolute error: 0.01\n",
      "R squared: 0.9859615267265287\n",
      "Caurus.csv\n",
      "21\n",
      "Mean absolute error: 0.01\n",
      "R squared: 0.7663100758170308\n",
      "Passat.csv\n",
      "22\n",
      "23\n"
     ]
    },
    {
     "name": "stderr",
     "output_type": "stream",
     "text": [
      "C:\\Users\\Nutzer\\AppData\\Local\\Temp\\ipykernel_8944\\241660264.py:10: FutureWarning: The default value of numeric_only in DataFrame.corr is deprecated. In a future version, it will default to False. Select only valid columns or specify the value of numeric_only to silence this warning.\n",
      "  supp_data.corr()\n",
      "C:\\Users\\Nutzer\\AppData\\Local\\Programs\\Python\\Python311\\Lib\\site-packages\\sklearn\\ensemble\\_forest.py:416: FutureWarning: `max_features='auto'` has been deprecated in 1.1 and will be removed in 1.3. To keep the past behaviour, explicitly set `max_features=1.0` or remove this parameter as it is also the default value for RandomForestRegressors and ExtraTreesRegressors.\n",
      "  warn(\n",
      "C:\\Users\\Nutzer\\AppData\\Local\\Temp\\ipykernel_8944\\241660264.py:10: FutureWarning: The default value of numeric_only in DataFrame.corr is deprecated. In a future version, it will default to False. Select only valid columns or specify the value of numeric_only to silence this warning.\n",
      "  supp_data.corr()\n",
      "C:\\Users\\Nutzer\\AppData\\Local\\Programs\\Python\\Python311\\Lib\\site-packages\\sklearn\\ensemble\\_forest.py:416: FutureWarning: `max_features='auto'` has been deprecated in 1.1 and will be removed in 1.3. To keep the past behaviour, explicitly set `max_features=1.0` or remove this parameter as it is also the default value for RandomForestRegressors and ExtraTreesRegressors.\n",
      "  warn(\n"
     ]
    },
    {
     "name": "stdout",
     "output_type": "stream",
     "text": [
      "Mean absolute error: 0.01\n",
      "R squared: 0.9812784880778757\n",
      "Werra.csv\n",
      "24\n",
      "25\n"
     ]
    },
    {
     "name": "stderr",
     "output_type": "stream",
     "text": [
      "C:\\Users\\Nutzer\\AppData\\Local\\Temp\\ipykernel_8944\\241660264.py:10: FutureWarning: The default value of numeric_only in DataFrame.corr is deprecated. In a future version, it will default to False. Select only valid columns or specify the value of numeric_only to silence this warning.\n",
      "  supp_data.corr()\n",
      "C:\\Users\\Nutzer\\AppData\\Local\\Programs\\Python\\Python311\\Lib\\site-packages\\sklearn\\ensemble\\_forest.py:416: FutureWarning: `max_features='auto'` has been deprecated in 1.1 and will be removed in 1.3. To keep the past behaviour, explicitly set `max_features=1.0` or remove this parameter as it is also the default value for RandomForestRegressors and ExtraTreesRegressors.\n",
      "  warn(\n"
     ]
    },
    {
     "name": "stdout",
     "output_type": "stream",
     "text": [
      "Mean absolute error: 0.02\n",
      "R squared: 0.9179855985282612\n",
      "Drau.csv\n",
      "26\n"
     ]
    },
    {
     "name": "stderr",
     "output_type": "stream",
     "text": [
      "C:\\Users\\Nutzer\\AppData\\Local\\Temp\\ipykernel_8944\\241660264.py:10: FutureWarning: The default value of numeric_only in DataFrame.corr is deprecated. In a future version, it will default to False. Select only valid columns or specify the value of numeric_only to silence this warning.\n",
      "  supp_data.corr()\n",
      "C:\\Users\\Nutzer\\AppData\\Local\\Programs\\Python\\Python311\\Lib\\site-packages\\sklearn\\ensemble\\_forest.py:416: FutureWarning: `max_features='auto'` has been deprecated in 1.1 and will be removed in 1.3. To keep the past behaviour, explicitly set `max_features=1.0` or remove this parameter as it is also the default value for RandomForestRegressors and ExtraTreesRegressors.\n",
      "  warn(\n"
     ]
    },
    {
     "name": "stdout",
     "output_type": "stream",
     "text": [
      "Mean absolute error: 0.02\n",
      "R squared: 0.9113275354290084\n",
      "Papagayos.csv\n",
      "27\n",
      "28\n",
      "29\n",
      "30\n",
      "31\n",
      "32\n"
     ]
    },
    {
     "name": "stderr",
     "output_type": "stream",
     "text": [
      "C:\\Users\\Nutzer\\AppData\\Local\\Temp\\ipykernel_8944\\241660264.py:10: FutureWarning: The default value of numeric_only in DataFrame.corr is deprecated. In a future version, it will default to False. Select only valid columns or specify the value of numeric_only to silence this warning.\n",
      "  supp_data.corr()\n",
      "C:\\Users\\Nutzer\\AppData\\Local\\Programs\\Python\\Python311\\Lib\\site-packages\\sklearn\\ensemble\\_forest.py:416: FutureWarning: `max_features='auto'` has been deprecated in 1.1 and will be removed in 1.3. To keep the past behaviour, explicitly set `max_features=1.0` or remove this parameter as it is also the default value for RandomForestRegressors and ExtraTreesRegressors.\n",
      "  warn(\n"
     ]
    },
    {
     "name": "stdout",
     "output_type": "stream",
     "text": [
      "Mean absolute error: 0.01\n",
      "R squared: 0.971781365845831\n",
      "Tornado.csv\n",
      "33\n"
     ]
    },
    {
     "name": "stderr",
     "output_type": "stream",
     "text": [
      "C:\\Users\\Nutzer\\AppData\\Local\\Temp\\ipykernel_8944\\241660264.py:10: FutureWarning: The default value of numeric_only in DataFrame.corr is deprecated. In a future version, it will default to False. Select only valid columns or specify the value of numeric_only to silence this warning.\n",
      "  supp_data.corr()\n",
      "C:\\Users\\Nutzer\\AppData\\Local\\Programs\\Python\\Python311\\Lib\\site-packages\\sklearn\\ensemble\\_forest.py:416: FutureWarning: `max_features='auto'` has been deprecated in 1.1 and will be removed in 1.3. To keep the past behaviour, explicitly set `max_features=1.0` or remove this parameter as it is also the default value for RandomForestRegressors and ExtraTreesRegressors.\n",
      "  warn(\n"
     ]
    },
    {
     "name": "stdout",
     "output_type": "stream",
     "text": [
      "Mean absolute error: 0.01\n",
      "R squared: 0.9892698379602042\n",
      "Oder.csv\n",
      "34\n"
     ]
    },
    {
     "name": "stderr",
     "output_type": "stream",
     "text": [
      "C:\\Users\\Nutzer\\AppData\\Local\\Temp\\ipykernel_8944\\241660264.py:10: FutureWarning: The default value of numeric_only in DataFrame.corr is deprecated. In a future version, it will default to False. Select only valid columns or specify the value of numeric_only to silence this warning.\n",
      "  supp_data.corr()\n",
      "C:\\Users\\Nutzer\\AppData\\Local\\Programs\\Python\\Python311\\Lib\\site-packages\\sklearn\\ensemble\\_forest.py:416: FutureWarning: `max_features='auto'` has been deprecated in 1.1 and will be removed in 1.3. To keep the past behaviour, explicitly set `max_features=1.0` or remove this parameter as it is also the default value for RandomForestRegressors and ExtraTreesRegressors.\n",
      "  warn(\n"
     ]
    },
    {
     "name": "stdout",
     "output_type": "stream",
     "text": [
      "Mean absolute error: 0.02\n",
      "R squared: 0.959970669268592\n",
      "Bergwind.csv\n",
      "35\n"
     ]
    },
    {
     "name": "stderr",
     "output_type": "stream",
     "text": [
      "C:\\Users\\Nutzer\\AppData\\Local\\Temp\\ipykernel_8944\\241660264.py:10: FutureWarning: The default value of numeric_only in DataFrame.corr is deprecated. In a future version, it will default to False. Select only valid columns or specify the value of numeric_only to silence this warning.\n",
      "  supp_data.corr()\n",
      "C:\\Users\\Nutzer\\AppData\\Local\\Programs\\Python\\Python311\\Lib\\site-packages\\sklearn\\ensemble\\_forest.py:416: FutureWarning: `max_features='auto'` has been deprecated in 1.1 and will be removed in 1.3. To keep the past behaviour, explicitly set `max_features=1.0` or remove this parameter as it is also the default value for RandomForestRegressors and ExtraTreesRegressors.\n",
      "  warn(\n"
     ]
    },
    {
     "name": "stdout",
     "output_type": "stream",
     "text": [
      "Mean absolute error: 0.01\n",
      "R squared: 0.9793023088606765\n",
      "Favonius.csv\n",
      "36\n"
     ]
    },
    {
     "name": "stderr",
     "output_type": "stream",
     "text": [
      "C:\\Users\\Nutzer\\AppData\\Local\\Temp\\ipykernel_8944\\241660264.py:10: FutureWarning: The default value of numeric_only in DataFrame.corr is deprecated. In a future version, it will default to False. Select only valid columns or specify the value of numeric_only to silence this warning.\n",
      "  supp_data.corr()\n",
      "C:\\Users\\Nutzer\\AppData\\Local\\Programs\\Python\\Python311\\Lib\\site-packages\\sklearn\\ensemble\\_forest.py:416: FutureWarning: `max_features='auto'` has been deprecated in 1.1 and will be removed in 1.3. To keep the past behaviour, explicitly set `max_features=1.0` or remove this parameter as it is also the default value for RandomForestRegressors and ExtraTreesRegressors.\n",
      "  warn(\n"
     ]
    },
    {
     "name": "stdout",
     "output_type": "stream",
     "text": [
      "Mean absolute error: 0.01\n",
      "R squared: 0.9927940981687052\n",
      "Sirkos.csv\n",
      "37\n"
     ]
    },
    {
     "name": "stderr",
     "output_type": "stream",
     "text": [
      "C:\\Users\\Nutzer\\AppData\\Local\\Temp\\ipykernel_8944\\241660264.py:10: FutureWarning: The default value of numeric_only in DataFrame.corr is deprecated. In a future version, it will default to False. Select only valid columns or specify the value of numeric_only to silence this warning.\n",
      "  supp_data.corr()\n",
      "C:\\Users\\Nutzer\\AppData\\Local\\Programs\\Python\\Python311\\Lib\\site-packages\\sklearn\\ensemble\\_forest.py:416: FutureWarning: `max_features='auto'` has been deprecated in 1.1 and will be removed in 1.3. To keep the past behaviour, explicitly set `max_features=1.0` or remove this parameter as it is also the default value for RandomForestRegressors and ExtraTreesRegressors.\n",
      "  warn(\n"
     ]
    },
    {
     "name": "stdout",
     "output_type": "stream",
     "text": [
      "Mean absolute error: 0.00\n",
      "R squared: 0.9879400787847716\n",
      "Collada.csv\n",
      "38\n"
     ]
    },
    {
     "name": "stderr",
     "output_type": "stream",
     "text": [
      "C:\\Users\\Nutzer\\AppData\\Local\\Temp\\ipykernel_8944\\241660264.py:10: FutureWarning: The default value of numeric_only in DataFrame.corr is deprecated. In a future version, it will default to False. Select only valid columns or specify the value of numeric_only to silence this warning.\n",
      "  supp_data.corr()\n",
      "C:\\Users\\Nutzer\\AppData\\Local\\Programs\\Python\\Python311\\Lib\\site-packages\\sklearn\\ensemble\\_forest.py:416: FutureWarning: `max_features='auto'` has been deprecated in 1.1 and will be removed in 1.3. To keep the past behaviour, explicitly set `max_features=1.0` or remove this parameter as it is also the default value for RandomForestRegressors and ExtraTreesRegressors.\n",
      "  warn(\n"
     ]
    },
    {
     "name": "stdout",
     "output_type": "stream",
     "text": [
      "Mean absolute error: 0.03\n",
      "R squared: 0.7036058427077723\n",
      "Bhoot.csv\n",
      "39\n",
      "40\n"
     ]
    },
    {
     "name": "stderr",
     "output_type": "stream",
     "text": [
      "C:\\Users\\Nutzer\\AppData\\Local\\Temp\\ipykernel_8944\\241660264.py:10: FutureWarning: The default value of numeric_only in DataFrame.corr is deprecated. In a future version, it will default to False. Select only valid columns or specify the value of numeric_only to silence this warning.\n",
      "  supp_data.corr()\n",
      "C:\\Users\\Nutzer\\AppData\\Local\\Programs\\Python\\Python311\\Lib\\site-packages\\sklearn\\ensemble\\_forest.py:416: FutureWarning: `max_features='auto'` has been deprecated in 1.1 and will be removed in 1.3. To keep the past behaviour, explicitly set `max_features=1.0` or remove this parameter as it is also the default value for RandomForestRegressors and ExtraTreesRegressors.\n",
      "  warn(\n"
     ]
    },
    {
     "name": "stdout",
     "output_type": "stream",
     "text": [
      "Mean absolute error: 0.01\n",
      "R squared: 0.9591216746763764\n",
      "Norte.csv\n",
      "41\n"
     ]
    },
    {
     "name": "stderr",
     "output_type": "stream",
     "text": [
      "C:\\Users\\Nutzer\\AppData\\Local\\Temp\\ipykernel_8944\\241660264.py:10: FutureWarning: The default value of numeric_only in DataFrame.corr is deprecated. In a future version, it will default to False. Select only valid columns or specify the value of numeric_only to silence this warning.\n",
      "  supp_data.corr()\n",
      "C:\\Users\\Nutzer\\AppData\\Local\\Programs\\Python\\Python311\\Lib\\site-packages\\sklearn\\ensemble\\_forest.py:416: FutureWarning: `max_features='auto'` has been deprecated in 1.1 and will be removed in 1.3. To keep the past behaviour, explicitly set `max_features=1.0` or remove this parameter as it is also the default value for RandomForestRegressors and ExtraTreesRegressors.\n",
      "  warn(\n"
     ]
    },
    {
     "name": "stdout",
     "output_type": "stream",
     "text": [
      "Mean absolute error: 0.03\n",
      "R squared: 0.8872251994890694\n",
      "Wambra.csv\n",
      "42\n"
     ]
    },
    {
     "name": "stderr",
     "output_type": "stream",
     "text": [
      "C:\\Users\\Nutzer\\AppData\\Local\\Temp\\ipykernel_8944\\241660264.py:10: FutureWarning: The default value of numeric_only in DataFrame.corr is deprecated. In a future version, it will default to False. Select only valid columns or specify the value of numeric_only to silence this warning.\n",
      "  supp_data.corr()\n",
      "C:\\Users\\Nutzer\\AppData\\Local\\Programs\\Python\\Python311\\Lib\\site-packages\\sklearn\\ensemble\\_forest.py:416: FutureWarning: `max_features='auto'` has been deprecated in 1.1 and will be removed in 1.3. To keep the past behaviour, explicitly set `max_features=1.0` or remove this parameter as it is also the default value for RandomForestRegressors and ExtraTreesRegressors.\n",
      "  warn(\n"
     ]
    },
    {
     "name": "stdout",
     "output_type": "stream",
     "text": [
      "Mean absolute error: 0.00\n",
      "R squared: 0.9836903075469426\n",
      "Sureot.csv\n",
      "43\n"
     ]
    },
    {
     "name": "stderr",
     "output_type": "stream",
     "text": [
      "C:\\Users\\Nutzer\\AppData\\Local\\Temp\\ipykernel_8944\\241660264.py:10: FutureWarning: The default value of numeric_only in DataFrame.corr is deprecated. In a future version, it will default to False. Select only valid columns or specify the value of numeric_only to silence this warning.\n",
      "  supp_data.corr()\n",
      "C:\\Users\\Nutzer\\AppData\\Local\\Programs\\Python\\Python311\\Lib\\site-packages\\sklearn\\ensemble\\_forest.py:416: FutureWarning: `max_features='auto'` has been deprecated in 1.1 and will be removed in 1.3. To keep the past behaviour, explicitly set `max_features=1.0` or remove this parameter as it is also the default value for RandomForestRegressors and ExtraTreesRegressors.\n",
      "  warn(\n"
     ]
    },
    {
     "name": "stdout",
     "output_type": "stream",
     "text": [
      "Mean absolute error: 0.04\n",
      "R squared: 0.9201533951020702\n",
      "Main.csv\n",
      "44\n",
      "45\n",
      "46\n",
      "47\n"
     ]
    },
    {
     "name": "stderr",
     "output_type": "stream",
     "text": [
      "C:\\Users\\Nutzer\\AppData\\Local\\Temp\\ipykernel_8944\\241660264.py:10: FutureWarning: The default value of numeric_only in DataFrame.corr is deprecated. In a future version, it will default to False. Select only valid columns or specify the value of numeric_only to silence this warning.\n",
      "  supp_data.corr()\n",
      "C:\\Users\\Nutzer\\AppData\\Local\\Programs\\Python\\Python311\\Lib\\site-packages\\sklearn\\ensemble\\_forest.py:416: FutureWarning: `max_features='auto'` has been deprecated in 1.1 and will be removed in 1.3. To keep the past behaviour, explicitly set `max_features=1.0` or remove this parameter as it is also the default value for RandomForestRegressors and ExtraTreesRegressors.\n",
      "  warn(\n"
     ]
    },
    {
     "name": "stdout",
     "output_type": "stream",
     "text": [
      "Mean absolute error: 0.01\n",
      "R squared: 0.9941613963377777\n",
      "Austru.csv\n",
      "48\n",
      "49\n"
     ]
    },
    {
     "name": "stderr",
     "output_type": "stream",
     "text": [
      "C:\\Users\\Nutzer\\AppData\\Local\\Temp\\ipykernel_8944\\241660264.py:10: FutureWarning: The default value of numeric_only in DataFrame.corr is deprecated. In a future version, it will default to False. Select only valid columns or specify the value of numeric_only to silence this warning.\n",
      "  supp_data.corr()\n",
      "C:\\Users\\Nutzer\\AppData\\Local\\Programs\\Python\\Python311\\Lib\\site-packages\\sklearn\\ensemble\\_forest.py:416: FutureWarning: `max_features='auto'` has been deprecated in 1.1 and will be removed in 1.3. To keep the past behaviour, explicitly set `max_features=1.0` or remove this parameter as it is also the default value for RandomForestRegressors and ExtraTreesRegressors.\n",
      "  warn(\n"
     ]
    },
    {
     "name": "stdout",
     "output_type": "stream",
     "text": [
      "Mean absolute error: 0.01\n",
      "R squared: 0.996417189097568\n",
      "Lule älv.csv\n",
      "50\n",
      "51\n"
     ]
    },
    {
     "name": "stderr",
     "output_type": "stream",
     "text": [
      "C:\\Users\\Nutzer\\AppData\\Local\\Temp\\ipykernel_8944\\241660264.py:10: FutureWarning: The default value of numeric_only in DataFrame.corr is deprecated. In a future version, it will default to False. Select only valid columns or specify the value of numeric_only to silence this warning.\n",
      "  supp_data.corr()\n",
      "C:\\Users\\Nutzer\\AppData\\Local\\Programs\\Python\\Python311\\Lib\\site-packages\\sklearn\\ensemble\\_forest.py:416: FutureWarning: `max_features='auto'` has been deprecated in 1.1 and will be removed in 1.3. To keep the past behaviour, explicitly set `max_features=1.0` or remove this parameter as it is also the default value for RandomForestRegressors and ExtraTreesRegressors.\n",
      "  warn(\n"
     ]
    },
    {
     "name": "stdout",
     "output_type": "stream",
     "text": [
      "Mean absolute error: 0.02\n",
      "R squared: 0.9811729917067309\n",
      "Reshabar.csv\n",
      "52\n"
     ]
    },
    {
     "name": "stderr",
     "output_type": "stream",
     "text": [
      "C:\\Users\\Nutzer\\AppData\\Local\\Temp\\ipykernel_8944\\241660264.py:10: FutureWarning: The default value of numeric_only in DataFrame.corr is deprecated. In a future version, it will default to False. Select only valid columns or specify the value of numeric_only to silence this warning.\n",
      "  supp_data.corr()\n",
      "C:\\Users\\Nutzer\\AppData\\Local\\Programs\\Python\\Python311\\Lib\\site-packages\\sklearn\\ensemble\\_forest.py:416: FutureWarning: `max_features='auto'` has been deprecated in 1.1 and will be removed in 1.3. To keep the past behaviour, explicitly set `max_features=1.0` or remove this parameter as it is also the default value for RandomForestRegressors and ExtraTreesRegressors.\n",
      "  warn(\n"
     ]
    },
    {
     "name": "stdout",
     "output_type": "stream",
     "text": [
      "Mean absolute error: 0.02\n",
      "R squared: 0.9896635894737033\n",
      "Solanus.csv\n",
      "53\n"
     ]
    },
    {
     "name": "stderr",
     "output_type": "stream",
     "text": [
      "C:\\Users\\Nutzer\\AppData\\Local\\Temp\\ipykernel_8944\\241660264.py:10: FutureWarning: The default value of numeric_only in DataFrame.corr is deprecated. In a future version, it will default to False. Select only valid columns or specify the value of numeric_only to silence this warning.\n",
      "  supp_data.corr()\n",
      "C:\\Users\\Nutzer\\AppData\\Local\\Programs\\Python\\Python311\\Lib\\site-packages\\sklearn\\ensemble\\_forest.py:416: FutureWarning: `max_features='auto'` has been deprecated in 1.1 and will be removed in 1.3. To keep the past behaviour, explicitly set `max_features=1.0` or remove this parameter as it is also the default value for RandomForestRegressors and ExtraTreesRegressors.\n",
      "  warn(\n"
     ]
    },
    {
     "name": "stdout",
     "output_type": "stream",
     "text": [
      "Mean absolute error: 0.02\n",
      "R squared: 0.9874168917280682\n",
      "Tehuantepecers.csv\n",
      "54\n"
     ]
    },
    {
     "name": "stderr",
     "output_type": "stream",
     "text": [
      "C:\\Users\\Nutzer\\AppData\\Local\\Temp\\ipykernel_8944\\241660264.py:10: FutureWarning: The default value of numeric_only in DataFrame.corr is deprecated. In a future version, it will default to False. Select only valid columns or specify the value of numeric_only to silence this warning.\n",
      "  supp_data.corr()\n",
      "C:\\Users\\Nutzer\\AppData\\Local\\Programs\\Python\\Python311\\Lib\\site-packages\\sklearn\\ensemble\\_forest.py:416: FutureWarning: `max_features='auto'` has been deprecated in 1.1 and will be removed in 1.3. To keep the past behaviour, explicitly set `max_features=1.0` or remove this parameter as it is also the default value for RandomForestRegressors and ExtraTreesRegressors.\n",
      "  warn(\n"
     ]
    },
    {
     "name": "stdout",
     "output_type": "stream",
     "text": [
      "Mean absolute error: 0.01\n",
      "R squared: 0.985585571318262\n",
      "Kachchan.csv\n",
      "55\n"
     ]
    },
    {
     "name": "stderr",
     "output_type": "stream",
     "text": [
      "C:\\Users\\Nutzer\\AppData\\Local\\Temp\\ipykernel_8944\\241660264.py:10: FutureWarning: The default value of numeric_only in DataFrame.corr is deprecated. In a future version, it will default to False. Select only valid columns or specify the value of numeric_only to silence this warning.\n",
      "  supp_data.corr()\n",
      "C:\\Users\\Nutzer\\AppData\\Local\\Programs\\Python\\Python311\\Lib\\site-packages\\sklearn\\ensemble\\_forest.py:416: FutureWarning: `max_features='auto'` has been deprecated in 1.1 and will be removed in 1.3. To keep the past behaviour, explicitly set `max_features=1.0` or remove this parameter as it is also the default value for RandomForestRegressors and ExtraTreesRegressors.\n",
      "  warn(\n"
     ]
    },
    {
     "name": "stdout",
     "output_type": "stream",
     "text": [
      "Mean absolute error: 0.01\n",
      "R squared: 0.9854619605292861\n",
      "Purga.csv\n",
      "56\n",
      "57\n"
     ]
    },
    {
     "name": "stderr",
     "output_type": "stream",
     "text": [
      "C:\\Users\\Nutzer\\AppData\\Local\\Temp\\ipykernel_8944\\241660264.py:10: FutureWarning: The default value of numeric_only in DataFrame.corr is deprecated. In a future version, it will default to False. Select only valid columns or specify the value of numeric_only to silence this warning.\n",
      "  supp_data.corr()\n",
      "C:\\Users\\Nutzer\\AppData\\Local\\Programs\\Python\\Python311\\Lib\\site-packages\\sklearn\\ensemble\\_forest.py:416: FutureWarning: `max_features='auto'` has been deprecated in 1.1 and will be removed in 1.3. To keep the past behaviour, explicitly set `max_features=1.0` or remove this parameter as it is also the default value for RandomForestRegressors and ExtraTreesRegressors.\n",
      "  warn(\n"
     ]
    },
    {
     "name": "stdout",
     "output_type": "stream",
     "text": [
      "Mean absolute error: 0.03\n",
      "R squared: 0.5682611998006846\n",
      "Leste.csv\n",
      "58\n"
     ]
    },
    {
     "name": "stderr",
     "output_type": "stream",
     "text": [
      "C:\\Users\\Nutzer\\AppData\\Local\\Temp\\ipykernel_8944\\241660264.py:10: FutureWarning: The default value of numeric_only in DataFrame.corr is deprecated. In a future version, it will default to False. Select only valid columns or specify the value of numeric_only to silence this warning.\n",
      "  supp_data.corr()\n",
      "C:\\Users\\Nutzer\\AppData\\Local\\Programs\\Python\\Python311\\Lib\\site-packages\\sklearn\\ensemble\\_forest.py:416: FutureWarning: `max_features='auto'` has been deprecated in 1.1 and will be removed in 1.3. To keep the past behaviour, explicitly set `max_features=1.0` or remove this parameter as it is also the default value for RandomForestRegressors and ExtraTreesRegressors.\n",
      "  warn(\n"
     ]
    },
    {
     "name": "stdout",
     "output_type": "stream",
     "text": [
      "Mean absolute error: 0.01\n",
      "R squared: 0.9911590922050822\n",
      "Yalca.csv\n",
      "59\n",
      "60\n"
     ]
    },
    {
     "name": "stderr",
     "output_type": "stream",
     "text": [
      "C:\\Users\\Nutzer\\AppData\\Local\\Temp\\ipykernel_8944\\241660264.py:10: FutureWarning: The default value of numeric_only in DataFrame.corr is deprecated. In a future version, it will default to False. Select only valid columns or specify the value of numeric_only to silence this warning.\n",
      "  supp_data.corr()\n",
      "C:\\Users\\Nutzer\\AppData\\Local\\Programs\\Python\\Python311\\Lib\\site-packages\\sklearn\\ensemble\\_forest.py:416: FutureWarning: `max_features='auto'` has been deprecated in 1.1 and will be removed in 1.3. To keep the past behaviour, explicitly set `max_features=1.0` or remove this parameter as it is also the default value for RandomForestRegressors and ExtraTreesRegressors.\n",
      "  warn(\n"
     ]
    },
    {
     "name": "stdout",
     "output_type": "stream",
     "text": [
      "Mean absolute error: 0.01\n",
      "R squared: 0.9851202679222921\n",
      "Boreas.csv\n",
      "61\n",
      "62\n",
      "63\n",
      "64\n",
      "65\n"
     ]
    },
    {
     "name": "stderr",
     "output_type": "stream",
     "text": [
      "C:\\Users\\Nutzer\\AppData\\Local\\Temp\\ipykernel_8944\\241660264.py:10: FutureWarning: The default value of numeric_only in DataFrame.corr is deprecated. In a future version, it will default to False. Select only valid columns or specify the value of numeric_only to silence this warning.\n",
      "  supp_data.corr()\n",
      "C:\\Users\\Nutzer\\AppData\\Local\\Programs\\Python\\Python311\\Lib\\site-packages\\sklearn\\ensemble\\_forest.py:416: FutureWarning: `max_features='auto'` has been deprecated in 1.1 and will be removed in 1.3. To keep the past behaviour, explicitly set `max_features=1.0` or remove this parameter as it is also the default value for RandomForestRegressors and ExtraTreesRegressors.\n",
      "  warn(\n"
     ]
    },
    {
     "name": "stdout",
     "output_type": "stream",
     "text": [
      "Mean absolute error: 0.01\n",
      "R squared: 0.952881331297027\n",
      "Zyklon.csv\n",
      "66\n",
      "67\n"
     ]
    },
    {
     "name": "stderr",
     "output_type": "stream",
     "text": [
      "C:\\Users\\Nutzer\\AppData\\Local\\Temp\\ipykernel_8944\\241660264.py:10: FutureWarning: The default value of numeric_only in DataFrame.corr is deprecated. In a future version, it will default to False. Select only valid columns or specify the value of numeric_only to silence this warning.\n",
      "  supp_data.corr()\n",
      "C:\\Users\\Nutzer\\AppData\\Local\\Programs\\Python\\Python311\\Lib\\site-packages\\sklearn\\ensemble\\_forest.py:416: FutureWarning: `max_features='auto'` has been deprecated in 1.1 and will be removed in 1.3. To keep the past behaviour, explicitly set `max_features=1.0` or remove this parameter as it is also the default value for RandomForestRegressors and ExtraTreesRegressors.\n",
      "  warn(\n"
     ]
    },
    {
     "name": "stdout",
     "output_type": "stream",
     "text": [
      "Mean absolute error: 0.01\n",
      "R squared: 0.8726569954164142\n",
      "Ångermanälven.csv\n",
      "68\n",
      "69\n"
     ]
    },
    {
     "name": "stderr",
     "output_type": "stream",
     "text": [
      "C:\\Users\\Nutzer\\AppData\\Local\\Temp\\ipykernel_8944\\241660264.py:10: FutureWarning: The default value of numeric_only in DataFrame.corr is deprecated. In a future version, it will default to False. Select only valid columns or specify the value of numeric_only to silence this warning.\n",
      "  supp_data.corr()\n",
      "C:\\Users\\Nutzer\\AppData\\Local\\Programs\\Python\\Python311\\Lib\\site-packages\\sklearn\\ensemble\\_forest.py:416: FutureWarning: `max_features='auto'` has been deprecated in 1.1 and will be removed in 1.3. To keep the past behaviour, explicitly set `max_features=1.0` or remove this parameter as it is also the default value for RandomForestRegressors and ExtraTreesRegressors.\n",
      "  warn(\n"
     ]
    },
    {
     "name": "stdout",
     "output_type": "stream",
     "text": [
      "Mean absolute error: 0.01\n",
      "R squared: 0.9943637530976839\n",
      "Hangwind.csv\n",
      "70\n"
     ]
    },
    {
     "name": "stderr",
     "output_type": "stream",
     "text": [
      "C:\\Users\\Nutzer\\AppData\\Local\\Temp\\ipykernel_8944\\241660264.py:10: FutureWarning: The default value of numeric_only in DataFrame.corr is deprecated. In a future version, it will default to False. Select only valid columns or specify the value of numeric_only to silence this warning.\n",
      "  supp_data.corr()\n",
      "C:\\Users\\Nutzer\\AppData\\Local\\Programs\\Python\\Python311\\Lib\\site-packages\\sklearn\\ensemble\\_forest.py:416: FutureWarning: `max_features='auto'` has been deprecated in 1.1 and will be removed in 1.3. To keep the past behaviour, explicitly set `max_features=1.0` or remove this parameter as it is also the default value for RandomForestRegressors and ExtraTreesRegressors.\n",
      "  warn(\n"
     ]
    },
    {
     "name": "stdout",
     "output_type": "stream",
     "text": [
      "Mean absolute error: 0.01\n",
      "R squared: 0.8342428596380231\n",
      "Rhone.csv\n",
      "71\n"
     ]
    },
    {
     "name": "stderr",
     "output_type": "stream",
     "text": [
      "C:\\Users\\Nutzer\\AppData\\Local\\Temp\\ipykernel_8944\\241660264.py:10: FutureWarning: The default value of numeric_only in DataFrame.corr is deprecated. In a future version, it will default to False. Select only valid columns or specify the value of numeric_only to silence this warning.\n",
      "  supp_data.corr()\n",
      "C:\\Users\\Nutzer\\AppData\\Local\\Programs\\Python\\Python311\\Lib\\site-packages\\sklearn\\ensemble\\_forest.py:416: FutureWarning: `max_features='auto'` has been deprecated in 1.1 and will be removed in 1.3. To keep the past behaviour, explicitly set `max_features=1.0` or remove this parameter as it is also the default value for RandomForestRegressors and ExtraTreesRegressors.\n",
      "  warn(\n"
     ]
    },
    {
     "name": "stdout",
     "output_type": "stream",
     "text": [
      "Mean absolute error: 0.01\n",
      "R squared: 0.9733476819638809\n",
      "Wischera.csv\n",
      "72\n",
      "73\n",
      "74\n"
     ]
    },
    {
     "name": "stderr",
     "output_type": "stream",
     "text": [
      "C:\\Users\\Nutzer\\AppData\\Local\\Temp\\ipykernel_8944\\241660264.py:10: FutureWarning: The default value of numeric_only in DataFrame.corr is deprecated. In a future version, it will default to False. Select only valid columns or specify the value of numeric_only to silence this warning.\n",
      "  supp_data.corr()\n",
      "C:\\Users\\Nutzer\\AppData\\Local\\Programs\\Python\\Python311\\Lib\\site-packages\\sklearn\\ensemble\\_forest.py:416: FutureWarning: `max_features='auto'` has been deprecated in 1.1 and will be removed in 1.3. To keep the past behaviour, explicitly set `max_features=1.0` or remove this parameter as it is also the default value for RandomForestRegressors and ExtraTreesRegressors.\n",
      "  warn(\n"
     ]
    },
    {
     "name": "stdout",
     "output_type": "stream",
     "text": [
      "Mean absolute error: 0.01\n",
      "R squared: 0.9689515311824115\n",
      "Monsunwind.csv\n",
      "75\n",
      "76\n",
      "77\n",
      "78\n",
      "79\n"
     ]
    },
    {
     "name": "stderr",
     "output_type": "stream",
     "text": [
      "C:\\Users\\Nutzer\\AppData\\Local\\Temp\\ipykernel_8944\\241660264.py:10: FutureWarning: The default value of numeric_only in DataFrame.corr is deprecated. In a future version, it will default to False. Select only valid columns or specify the value of numeric_only to silence this warning.\n",
      "  supp_data.corr()\n",
      "C:\\Users\\Nutzer\\AppData\\Local\\Programs\\Python\\Python311\\Lib\\site-packages\\sklearn\\ensemble\\_forest.py:416: FutureWarning: `max_features='auto'` has been deprecated in 1.1 and will be removed in 1.3. To keep the past behaviour, explicitly set `max_features=1.0` or remove this parameter as it is also the default value for RandomForestRegressors and ExtraTreesRegressors.\n",
      "  warn(\n"
     ]
    },
    {
     "name": "stdout",
     "output_type": "stream",
     "text": [
      "Mean absolute error: 0.00\n",
      "R squared: 0.9983117832162787\n",
      "Severn.csv\n",
      "80\n",
      "81\n",
      "82\n"
     ]
    },
    {
     "name": "stderr",
     "output_type": "stream",
     "text": [
      "C:\\Users\\Nutzer\\AppData\\Local\\Temp\\ipykernel_8944\\241660264.py:10: FutureWarning: The default value of numeric_only in DataFrame.corr is deprecated. In a future version, it will default to False. Select only valid columns or specify the value of numeric_only to silence this warning.\n",
      "  supp_data.corr()\n",
      "C:\\Users\\Nutzer\\AppData\\Local\\Programs\\Python\\Python311\\Lib\\site-packages\\sklearn\\ensemble\\_forest.py:416: FutureWarning: `max_features='auto'` has been deprecated in 1.1 and will be removed in 1.3. To keep the past behaviour, explicitly set `max_features=1.0` or remove this parameter as it is also the default value for RandomForestRegressors and ExtraTreesRegressors.\n",
      "  warn(\n"
     ]
    },
    {
     "name": "stdout",
     "output_type": "stream",
     "text": [
      "Mean absolute error: 0.01\n",
      "R squared: 0.9871368200833722\n",
      "Piteraq.csv\n",
      "83\n",
      "84\n"
     ]
    },
    {
     "name": "stderr",
     "output_type": "stream",
     "text": [
      "C:\\Users\\Nutzer\\AppData\\Local\\Temp\\ipykernel_8944\\241660264.py:10: FutureWarning: The default value of numeric_only in DataFrame.corr is deprecated. In a future version, it will default to False. Select only valid columns or specify the value of numeric_only to silence this warning.\n",
      "  supp_data.corr()\n",
      "C:\\Users\\Nutzer\\AppData\\Local\\Programs\\Python\\Python311\\Lib\\site-packages\\sklearn\\ensemble\\_forest.py:416: FutureWarning: `max_features='auto'` has been deprecated in 1.1 and will be removed in 1.3. To keep the past behaviour, explicitly set `max_features=1.0` or remove this parameter as it is also the default value for RandomForestRegressors and ExtraTreesRegressors.\n",
      "  warn(\n"
     ]
    },
    {
     "name": "stdout",
     "output_type": "stream",
     "text": [
      "Mean absolute error: 0.00\n",
      "R squared: 0.9893739465929859\n",
      "Suracon.csv\n",
      "85\n"
     ]
    },
    {
     "name": "stderr",
     "output_type": "stream",
     "text": [
      "C:\\Users\\Nutzer\\AppData\\Local\\Temp\\ipykernel_8944\\241660264.py:10: FutureWarning: The default value of numeric_only in DataFrame.corr is deprecated. In a future version, it will default to False. Select only valid columns or specify the value of numeric_only to silence this warning.\n",
      "  supp_data.corr()\n",
      "C:\\Users\\Nutzer\\AppData\\Local\\Programs\\Python\\Python311\\Lib\\site-packages\\sklearn\\ensemble\\_forest.py:416: FutureWarning: `max_features='auto'` has been deprecated in 1.1 and will be removed in 1.3. To keep the past behaviour, explicitly set `max_features=1.0` or remove this parameter as it is also the default value for RandomForestRegressors and ExtraTreesRegressors.\n",
      "  warn(\n"
     ]
    },
    {
     "name": "stdout",
     "output_type": "stream",
     "text": [
      "Mean absolute error: 0.01\n",
      "R squared: 0.9966864703584514\n",
      "Belaja.csv\n",
      "86\n",
      "87\n",
      "88\n",
      "89\n",
      "90\n",
      "91\n",
      "92\n",
      "93\n",
      "94\n",
      "95\n"
     ]
    },
    {
     "name": "stderr",
     "output_type": "stream",
     "text": [
      "C:\\Users\\Nutzer\\AppData\\Local\\Temp\\ipykernel_8944\\241660264.py:10: FutureWarning: The default value of numeric_only in DataFrame.corr is deprecated. In a future version, it will default to False. Select only valid columns or specify the value of numeric_only to silence this warning.\n",
      "  supp_data.corr()\n",
      "C:\\Users\\Nutzer\\AppData\\Local\\Programs\\Python\\Python311\\Lib\\site-packages\\sklearn\\ensemble\\_forest.py:416: FutureWarning: `max_features='auto'` has been deprecated in 1.1 and will be removed in 1.3. To keep the past behaviour, explicitly set `max_features=1.0` or remove this parameter as it is also the default value for RandomForestRegressors and ExtraTreesRegressors.\n",
      "  warn(\n"
     ]
    },
    {
     "name": "stdout",
     "output_type": "stream",
     "text": [
      "Mean absolute error: 0.01\n",
      "R squared: 0.8559553162165567\n",
      "Paramitos.csv\n",
      "96\n",
      "97\n",
      "98\n",
      "99\n",
      "100\n",
      "101\n",
      "102\n"
     ]
    },
    {
     "name": "stderr",
     "output_type": "stream",
     "text": [
      "C:\\Users\\Nutzer\\AppData\\Local\\Temp\\ipykernel_8944\\241660264.py:10: FutureWarning: The default value of numeric_only in DataFrame.corr is deprecated. In a future version, it will default to False. Select only valid columns or specify the value of numeric_only to silence this warning.\n",
      "  supp_data.corr()\n",
      "C:\\Users\\Nutzer\\AppData\\Local\\Programs\\Python\\Python311\\Lib\\site-packages\\sklearn\\ensemble\\_forest.py:416: FutureWarning: `max_features='auto'` has been deprecated in 1.1 and will be removed in 1.3. To keep the past behaviour, explicitly set `max_features=1.0` or remove this parameter as it is also the default value for RandomForestRegressors and ExtraTreesRegressors.\n",
      "  warn(\n"
     ]
    },
    {
     "name": "stdout",
     "output_type": "stream",
     "text": [
      "Mean absolute error: 0.02\n",
      "R squared: 0.8573580348724732\n",
      "Aspr.csv\n",
      "103\n"
     ]
    },
    {
     "name": "stderr",
     "output_type": "stream",
     "text": [
      "C:\\Users\\Nutzer\\AppData\\Local\\Temp\\ipykernel_8944\\241660264.py:10: FutureWarning: The default value of numeric_only in DataFrame.corr is deprecated. In a future version, it will default to False. Select only valid columns or specify the value of numeric_only to silence this warning.\n",
      "  supp_data.corr()\n",
      "C:\\Users\\Nutzer\\AppData\\Local\\Programs\\Python\\Python311\\Lib\\site-packages\\sklearn\\ensemble\\_forest.py:416: FutureWarning: `max_features='auto'` has been deprecated in 1.1 and will be removed in 1.3. To keep the past behaviour, explicitly set `max_features=1.0` or remove this parameter as it is also the default value for RandomForestRegressors and ExtraTreesRegressors.\n",
      "  warn(\n"
     ]
    },
    {
     "name": "stdout",
     "output_type": "stream",
     "text": [
      "Mean absolute error: 0.00\n",
      "R squared: 0.9940905230465547\n",
      "Helm.csv\n",
      "104\n",
      "105\n",
      "106\n",
      "107\n",
      "108\n",
      "109\n"
     ]
    },
    {
     "name": "stderr",
     "output_type": "stream",
     "text": [
      "C:\\Users\\Nutzer\\AppData\\Local\\Temp\\ipykernel_8944\\241660264.py:10: FutureWarning: The default value of numeric_only in DataFrame.corr is deprecated. In a future version, it will default to False. Select only valid columns or specify the value of numeric_only to silence this warning.\n",
      "  supp_data.corr()\n",
      "C:\\Users\\Nutzer\\AppData\\Local\\Programs\\Python\\Python311\\Lib\\site-packages\\sklearn\\ensemble\\_forest.py:416: FutureWarning: `max_features='auto'` has been deprecated in 1.1 and will be removed in 1.3. To keep the past behaviour, explicitly set `max_features=1.0` or remove this parameter as it is also the default value for RandomForestRegressors and ExtraTreesRegressors.\n",
      "  warn(\n"
     ]
    },
    {
     "name": "stdout",
     "output_type": "stream",
     "text": [
      "Mean absolute error: 0.00\n",
      "R squared: 0.9775106631926724\n",
      "Nördliche Dwina.csv\n",
      "110\n",
      "111\n",
      "112\n",
      "113\n",
      "114\n",
      "115\n",
      "116\n",
      "117\n"
     ]
    },
    {
     "name": "stderr",
     "output_type": "stream",
     "text": [
      "C:\\Users\\Nutzer\\AppData\\Local\\Temp\\ipykernel_8944\\241660264.py:10: FutureWarning: The default value of numeric_only in DataFrame.corr is deprecated. In a future version, it will default to False. Select only valid columns or specify the value of numeric_only to silence this warning.\n",
      "  supp_data.corr()\n",
      "C:\\Users\\Nutzer\\AppData\\Local\\Programs\\Python\\Python311\\Lib\\site-packages\\sklearn\\ensemble\\_forest.py:416: FutureWarning: `max_features='auto'` has been deprecated in 1.1 and will be removed in 1.3. To keep the past behaviour, explicitly set `max_features=1.0` or remove this parameter as it is also the default value for RandomForestRegressors and ExtraTreesRegressors.\n",
      "  warn(\n"
     ]
    },
    {
     "name": "stdout",
     "output_type": "stream",
     "text": [
      "Mean absolute error: 0.02\n",
      "R squared: 0.9722790035238235\n",
      "Poniente.csv\n",
      "118\n",
      "119\n",
      "120\n"
     ]
    },
    {
     "name": "stderr",
     "output_type": "stream",
     "text": [
      "C:\\Users\\Nutzer\\AppData\\Local\\Temp\\ipykernel_8944\\241660264.py:10: FutureWarning: The default value of numeric_only in DataFrame.corr is deprecated. In a future version, it will default to False. Select only valid columns or specify the value of numeric_only to silence this warning.\n",
      "  supp_data.corr()\n",
      "C:\\Users\\Nutzer\\AppData\\Local\\Programs\\Python\\Python311\\Lib\\site-packages\\sklearn\\ensemble\\_forest.py:416: FutureWarning: `max_features='auto'` has been deprecated in 1.1 and will be removed in 1.3. To keep the past behaviour, explicitly set `max_features=1.0` or remove this parameter as it is also the default value for RandomForestRegressors and ExtraTreesRegressors.\n",
      "  warn(\n"
     ]
    },
    {
     "name": "stdout",
     "output_type": "stream",
     "text": [
      "Mean absolute error: 0.01\n",
      "R squared: 0.9555317830724326\n",
      "Santa.csv\n",
      "121\n"
     ]
    },
    {
     "name": "stderr",
     "output_type": "stream",
     "text": [
      "C:\\Users\\Nutzer\\AppData\\Local\\Temp\\ipykernel_8944\\241660264.py:10: FutureWarning: The default value of numeric_only in DataFrame.corr is deprecated. In a future version, it will default to False. Select only valid columns or specify the value of numeric_only to silence this warning.\n",
      "  supp_data.corr()\n",
      "C:\\Users\\Nutzer\\AppData\\Local\\Programs\\Python\\Python311\\Lib\\site-packages\\sklearn\\ensemble\\_forest.py:416: FutureWarning: `max_features='auto'` has been deprecated in 1.1 and will be removed in 1.3. To keep the past behaviour, explicitly set `max_features=1.0` or remove this parameter as it is also the default value for RandomForestRegressors and ExtraTreesRegressors.\n",
      "  warn(\n"
     ]
    },
    {
     "name": "stdout",
     "output_type": "stream",
     "text": [
      "Mean absolute error: 0.01\n",
      "R squared: 0.9867506221152896\n",
      "Vento.csv\n",
      "122\n",
      "123\n"
     ]
    },
    {
     "name": "stderr",
     "output_type": "stream",
     "text": [
      "C:\\Users\\Nutzer\\AppData\\Local\\Temp\\ipykernel_8944\\241660264.py:10: FutureWarning: The default value of numeric_only in DataFrame.corr is deprecated. In a future version, it will default to False. Select only valid columns or specify the value of numeric_only to silence this warning.\n",
      "  supp_data.corr()\n",
      "C:\\Users\\Nutzer\\AppData\\Local\\Programs\\Python\\Python311\\Lib\\site-packages\\sklearn\\ensemble\\_forest.py:416: FutureWarning: `max_features='auto'` has been deprecated in 1.1 and will be removed in 1.3. To keep the past behaviour, explicitly set `max_features=1.0` or remove this parameter as it is also the default value for RandomForestRegressors and ExtraTreesRegressors.\n",
      "  warn(\n"
     ]
    },
    {
     "name": "stdout",
     "output_type": "stream",
     "text": [
      "Mean absolute error: 0.01\n",
      "R squared: 0.9290904513077054\n",
      "Coromell.csv\n",
      "124\n"
     ]
    },
    {
     "name": "stderr",
     "output_type": "stream",
     "text": [
      "C:\\Users\\Nutzer\\AppData\\Local\\Temp\\ipykernel_8944\\241660264.py:10: FutureWarning: The default value of numeric_only in DataFrame.corr is deprecated. In a future version, it will default to False. Select only valid columns or specify the value of numeric_only to silence this warning.\n",
      "  supp_data.corr()\n",
      "C:\\Users\\Nutzer\\AppData\\Local\\Programs\\Python\\Python311\\Lib\\site-packages\\sklearn\\ensemble\\_forest.py:416: FutureWarning: `max_features='auto'` has been deprecated in 1.1 and will be removed in 1.3. To keep the past behaviour, explicitly set `max_features=1.0` or remove this parameter as it is also the default value for RandomForestRegressors and ExtraTreesRegressors.\n",
      "  warn(\n"
     ]
    },
    {
     "name": "stdout",
     "output_type": "stream",
     "text": [
      "Mean absolute error: 0.02\n",
      "R squared: 0.9442716295716468\n",
      "Kata.csv\n",
      "125\n",
      "126\n",
      "127\n"
     ]
    },
    {
     "name": "stderr",
     "output_type": "stream",
     "text": [
      "C:\\Users\\Nutzer\\AppData\\Local\\Temp\\ipykernel_8944\\241660264.py:10: FutureWarning: The default value of numeric_only in DataFrame.corr is deprecated. In a future version, it will default to False. Select only valid columns or specify the value of numeric_only to silence this warning.\n",
      "  supp_data.corr()\n",
      "C:\\Users\\Nutzer\\AppData\\Local\\Programs\\Python\\Python311\\Lib\\site-packages\\sklearn\\ensemble\\_forest.py:416: FutureWarning: `max_features='auto'` has been deprecated in 1.1 and will be removed in 1.3. To keep the past behaviour, explicitly set `max_features=1.0` or remove this parameter as it is also the default value for RandomForestRegressors and ExtraTreesRegressors.\n",
      "  warn(\n"
     ]
    },
    {
     "name": "stdout",
     "output_type": "stream",
     "text": [
      "Mean absolute error: 0.01\n",
      "R squared: 0.9420873417574649\n",
      "Joran.csv\n",
      "128\n",
      "129\n",
      "130\n"
     ]
    },
    {
     "name": "stderr",
     "output_type": "stream",
     "text": [
      "C:\\Users\\Nutzer\\AppData\\Local\\Temp\\ipykernel_8944\\241660264.py:10: FutureWarning: The default value of numeric_only in DataFrame.corr is deprecated. In a future version, it will default to False. Select only valid columns or specify the value of numeric_only to silence this warning.\n",
      "  supp_data.corr()\n",
      "C:\\Users\\Nutzer\\AppData\\Local\\Programs\\Python\\Python311\\Lib\\site-packages\\sklearn\\ensemble\\_forest.py:416: FutureWarning: `max_features='auto'` has been deprecated in 1.1 and will be removed in 1.3. To keep the past behaviour, explicitly set `max_features=1.0` or remove this parameter as it is also the default value for RandomForestRegressors and ExtraTreesRegressors.\n",
      "  warn(\n"
     ]
    },
    {
     "name": "stdout",
     "output_type": "stream",
     "text": [
      "Mean absolute error: 0.01\n",
      "R squared: 0.9693848223201305\n",
      "Mureș.csv\n",
      "131\n"
     ]
    },
    {
     "name": "stderr",
     "output_type": "stream",
     "text": [
      "C:\\Users\\Nutzer\\AppData\\Local\\Temp\\ipykernel_8944\\241660264.py:10: FutureWarning: The default value of numeric_only in DataFrame.corr is deprecated. In a future version, it will default to False. Select only valid columns or specify the value of numeric_only to silence this warning.\n",
      "  supp_data.corr()\n",
      "C:\\Users\\Nutzer\\AppData\\Local\\Programs\\Python\\Python311\\Lib\\site-packages\\sklearn\\ensemble\\_forest.py:416: FutureWarning: `max_features='auto'` has been deprecated in 1.1 and will be removed in 1.3. To keep the past behaviour, explicitly set `max_features=1.0` or remove this parameter as it is also the default value for RandomForestRegressors and ExtraTreesRegressors.\n",
      "  warn(\n"
     ]
    },
    {
     "name": "stdout",
     "output_type": "stream",
     "text": [
      "Mean absolute error: 0.00\n",
      "R squared: 0.9920404722531377\n",
      "Baguio.csv\n",
      "132\n",
      "133\n",
      "134\n",
      "135\n",
      "136\n",
      "137\n",
      "138\n",
      "139\n"
     ]
    }
   ],
   "source": [
    "def R_forest(data_file):\n",
    "    supp_data = pd.read_csv(path+ll_data+data_file, parse_dates = [\"date\"])\n",
    "    supp_data.sort_values(\"date\", inplace=True)\n",
    "    \n",
    "    if supp_data.shape[0]>100: \n",
    "        supp_data = supp_data.groupby('date').agg({'price_per_kwh':'mean'})\n",
    "\n",
    "        supp_data = supp_data.merge(mkt_data, how='inner', on='date')\n",
    "\n",
    "        supp_data.corr()\n",
    "\n",
    "        new_mkt = supp_data.copy()\n",
    "        new_mkt.drop(columns = ['price_per_kwh'], inplace = True)\n",
    "        new_mkt.set_index('date', inplace=True)\n",
    "\n",
    "        X= new_mkt\n",
    "        X\n",
    "        \n",
    "        y = supp_data['price_per_kwh']\n",
    "        \n",
    "        # Using PCA to find the most relevant price instruments\n",
    "        pca = PCA(0.99)\n",
    "        X_pca = pca.fit_transform(X)\n",
    "        pca_comp = pca.components_\n",
    "        num_ins = pca.n_components_\n",
    "        \n",
    "        # Train - test split\n",
    "        X_train, X_test, y_train, y_test = train_test_split(X_pca, y, test_size=0.2, random_state=42)\n",
    "        \n",
    "        # Train Random Forest Regression\n",
    "        model = RandomForestRegressor(n_estimators=150, max_depth=20, max_features='auto')\n",
    "        model.fit(X_train, y_train)\n",
    "        \n",
    "        #Test the model\n",
    "        predictions = model.predict(X_test)\n",
    "        \n",
    "        # Evaluate the model's performance\n",
    "        # Mean absolute error\n",
    "        mae = np.mean(abs(predictions - y_test))\n",
    "        print(f'Mean absolute error: {mae:.2f}')\n",
    "        # R^2\n",
    "        r = r2_score(y_test, predictions)\n",
    "        print('R squared:', r)\n",
    "        \n",
    "            \n",
    "        # Calculating model accuracy\n",
    "        acc = model.score(X_test, y_test)\n",
    "    \n",
    "        #pc1_coeff = pca.components_[0]\n",
    "        #ex_var = 0\n",
    "        #for n_ins in range(100):\n",
    "         #   if ex_var<0.99:\n",
    "          #      ex_var += model.feature_importances_[n_ins]\n",
    "        \n",
    "        n_ins = 10\n",
    "        imp = model.feature_importances_# Importance factor of features\n",
    "        ex_var_ins = np.zeros(shape=X.shape[1]) #Explanatory power of each instrument is stored\n",
    "        for k, comp in enumerate(pca_comp):# for each PC\n",
    "            ex_var_ins += comp*imp[k] #Explained variance of instrument\n",
    "        ex_var_ins = ex_var_ins / ex_var_ins.sum() #Proportion of exp var\n",
    "        ind = ex_var_ins.argsort()[-20:][::-1] # Indices of most significant features\n",
    "        feature = X.columns\n",
    "        sig_features = [feature[i] for i in ind] # Get the most significant features\n",
    "        sig_features_imp = ex_var_ins[ind] # Importance of significant features\n",
    "        \n",
    "        for j in range(20):\n",
    "            sup_data = {'File': str(data_file),'Price instrument':sig_features[j], 'Variance': sig_features_imp[j], 'R sq':r}\n",
    "            supp_reg_coeff_list.append(sup_data)\n",
    "        print(str(data_file))\n",
    "        \n",
    "        #reg_dim = sorted(zip(X.columns, model.feature_importances_), key=lambda x: abs(x[1]), reverse=True)[:num_ins]\n",
    "        #for dim, coeff in reg_dim:\n",
    "        #   sup_data = {'File': str(data_file),'Price instrument':str(dim), 'Variance': float(coeff), 'R sq':r}\n",
    "        #   supp_reg_coeff_list.append(sup_data)\n",
    "       #print(str(data_file))\n",
    "        \n",
    "    else:\n",
    "        return pd.DataFrame()\n",
    "    \n",
    "    return acc\n",
    "\n",
    "for data_file in data_files:\n",
    "    R_forest(data_file)\n",
    "    print(data_files.index(data_file))\n",
    "    \n"
   ]
  },
  {
   "cell_type": "code",
   "execution_count": 8,
   "id": "578d46cc",
   "metadata": {},
   "outputs": [],
   "source": [
    "df = pd.DataFrame(supp_reg_coeff_list)    \n",
    "df.to_csv('D:/DAiA/Eon/Master data/output/DAiA-EON/data/Supplier_Regression_coeff_list.csv')"
   ]
  },
  {
   "cell_type": "code",
   "execution_count": null,
   "id": "29f56ee7",
   "metadata": {},
   "outputs": [],
   "source": []
  },
  {
   "cell_type": "code",
   "execution_count": null,
   "id": "33ece541",
   "metadata": {},
   "outputs": [],
   "source": []
  },
  {
   "cell_type": "code",
   "execution_count": null,
   "id": "6fde2f3f",
   "metadata": {},
   "outputs": [],
   "source": []
  },
  {
   "cell_type": "code",
   "execution_count": null,
   "id": "e15d5f0e",
   "metadata": {},
   "outputs": [],
   "source": []
  },
  {
   "cell_type": "code",
   "execution_count": null,
   "id": "7379e0a0",
   "metadata": {},
   "outputs": [],
   "source": []
  },
  {
   "cell_type": "code",
   "execution_count": null,
   "id": "8d2f42e9",
   "metadata": {},
   "outputs": [],
   "source": []
  },
  {
   "cell_type": "code",
   "execution_count": null,
   "id": "49d42411",
   "metadata": {},
   "outputs": [],
   "source": []
  },
  {
   "cell_type": "code",
   "execution_count": null,
   "id": "454ead57",
   "metadata": {},
   "outputs": [],
   "source": []
  },
  {
   "cell_type": "code",
   "execution_count": null,
   "id": "16de9835",
   "metadata": {},
   "outputs": [],
   "source": []
  },
  {
   "cell_type": "code",
   "execution_count": null,
   "id": "4e5de777",
   "metadata": {},
   "outputs": [],
   "source": []
  },
  {
   "cell_type": "code",
   "execution_count": null,
   "id": "9ea2aa14",
   "metadata": {},
   "outputs": [],
   "source": []
  },
  {
   "cell_type": "code",
   "execution_count": null,
   "id": "0f4bfaae",
   "metadata": {},
   "outputs": [],
   "source": []
  }
 ],
 "metadata": {
  "kernelspec": {
   "display_name": "Python 3 (ipykernel)",
   "language": "python",
   "name": "python3"
  },
  "language_info": {
   "codemirror_mode": {
    "name": "ipython",
    "version": 3
   },
   "file_extension": ".py",
   "mimetype": "text/x-python",
   "name": "python",
   "nbconvert_exporter": "python",
   "pygments_lexer": "ipython3",
   "version": "3.11.0"
  }
 },
 "nbformat": 4,
 "nbformat_minor": 5
}
