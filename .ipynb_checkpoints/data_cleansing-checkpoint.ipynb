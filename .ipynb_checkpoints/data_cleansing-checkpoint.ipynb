{
 "cells": [
  {
   "cell_type": "markdown",
   "metadata": {},
   "source": [
    "# Data Cleansing\n",
    "Remove all duplicated values and keep only one (keep the smallest \"price_year_eur\" if different)\n"
   ]
  },
  {
   "cell_type": "code",
   "execution_count": 65,
   "metadata": {},
   "outputs": [],
   "source": [
    "import pandas as pd"
   ]
  },
  {
   "cell_type": "code",
   "execution_count": 66,
   "metadata": {},
   "outputs": [],
   "source": [
    "#path to the data folder, edit if necesssary\n",
    "path = \"./data/\"\n",
    "\n",
    "#filenames\n",
    "file_power = \"competitor_market_prices_power.csv\"\n",
    "file_gas = \"competitor_market_prices_gas.csv\""
   ]
  },
  {
   "cell_type": "code",
   "execution_count": 67,
   "metadata": {},
   "outputs": [],
   "source": [
    "#define the keys of the dataset\n",
    "keys = [\"date_valid_from\", \"date_valid_to\", \"consumption_range_kwh\", \"tariff\", \"post_code\", \"supplier\"]"
   ]
  },
  {
   "cell_type": "markdown",
   "metadata": {},
   "source": [
    "### Competitor Data Power"
   ]
  },
  {
   "cell_type": "code",
   "execution_count": 68,
   "metadata": {},
   "outputs": [],
   "source": [
    "#read csv\n",
    "competitors_power = pd.read_csv(path + file_power)"
   ]
  },
  {
   "cell_type": "code",
   "execution_count": 69,
   "metadata": {},
   "outputs": [
    {
     "data": {
      "text/plain": [
       "(68438566, 10)"
      ]
     },
     "execution_count": 69,
     "metadata": {},
     "output_type": "execute_result"
    }
   ],
   "source": [
    "competitors_power.shape"
   ]
  },
  {
   "cell_type": "code",
   "execution_count": 70,
   "metadata": {},
   "outputs": [],
   "source": [
    "#delete duplicates by keys, for duplicated values keep the lower price\n",
    "competitors_power_clean = competitors_power.sort_values(by=\"price_year_eur\").drop_duplicates(subset=keys, keep=\"first\").sort_index()"
   ]
  },
  {
   "cell_type": "code",
   "execution_count": 71,
   "metadata": {},
   "outputs": [
    {
     "data": {
      "text/plain": [
       "(32634489, 10)"
      ]
     },
     "execution_count": 71,
     "metadata": {},
     "output_type": "execute_result"
    }
   ],
   "source": [
    "competitors_power_clean.shape"
   ]
  },
  {
   "cell_type": "code",
   "execution_count": 72,
   "metadata": {},
   "outputs": [],
   "source": [
    "competitors_power_clean.to_csv(path + \"clean_\" + file_power)"
   ]
  },
  {
   "cell_type": "markdown",
   "metadata": {},
   "source": [
    "### Competitor Data Gas"
   ]
  },
  {
   "cell_type": "code",
   "execution_count": 73,
   "metadata": {},
   "outputs": [],
   "source": [
    "#read csv\n",
    "competitors_gas = pd.read_csv(path + file_gas)"
   ]
  },
  {
   "cell_type": "code",
   "execution_count": 74,
   "metadata": {},
   "outputs": [
    {
     "data": {
      "text/plain": [
       "(29373267, 10)"
      ]
     },
     "execution_count": 74,
     "metadata": {},
     "output_type": "execute_result"
    }
   ],
   "source": [
    "competitors_gas.shape"
   ]
  },
  {
   "cell_type": "code",
   "execution_count": 75,
   "metadata": {},
   "outputs": [],
   "source": [
    "#delete duplicates by keys, for duplicated values keep the lower price\n",
    "competitors_clean_gas = competitors_gas.sort_values(by=\"price_year_eur\").drop_duplicates(subset=keys, keep=\"first\").sort_index()"
   ]
  },
  {
   "cell_type": "code",
   "execution_count": 76,
   "metadata": {},
   "outputs": [
    {
     "data": {
      "text/plain": [
       "(17982685, 10)"
      ]
     },
     "execution_count": 76,
     "metadata": {},
     "output_type": "execute_result"
    }
   ],
   "source": [
    "competitors_clean_gas.shape"
   ]
  },
  {
   "cell_type": "code",
   "execution_count": 77,
   "metadata": {},
   "outputs": [
    {
     "data": {
      "text/plain": [
       "32"
      ]
     },
     "execution_count": 77,
     "metadata": {},
     "output_type": "execute_result"
    }
   ],
   "source": [
    "competitors_clean_gas.to_csv(path + \"clean_\" + file_gas)\n",
    "\n",
    "competitors_clean_gas.consumption_range_kwh.nunique()"
   ]
  },
  {
   "cell_type": "code",
   "execution_count": 78,
   "metadata": {},
   "outputs": [
    {
     "data": {
      "text/html": [
       "<div>\n",
       "<style scoped>\n",
       "    .dataframe tbody tr th:only-of-type {\n",
       "        vertical-align: middle;\n",
       "    }\n",
       "\n",
       "    .dataframe tbody tr th {\n",
       "        vertical-align: top;\n",
       "    }\n",
       "\n",
       "    .dataframe thead th {\n",
       "        text-align: right;\n",
       "    }\n",
       "</style>\n",
       "<table border=\"1\" class=\"dataframe\">\n",
       "  <thead>\n",
       "    <tr style=\"text-align: right;\">\n",
       "      <th></th>\n",
       "      <th>date_valid_from</th>\n",
       "      <th>date_valid_to</th>\n",
       "      <th>rank</th>\n",
       "      <th>consumption_range_kwh</th>\n",
       "      <th>tariff</th>\n",
       "      <th>supplier</th>\n",
       "      <th>price_year_eur</th>\n",
       "      <th>post_code</th>\n",
       "      <th>city</th>\n",
       "      <th>energy</th>\n",
       "    </tr>\n",
       "  </thead>\n",
       "  <tbody>\n",
       "    <tr>\n",
       "      <th>0</th>\n",
       "      <td>2022-02-19</td>\n",
       "      <td>2022-02-20</td>\n",
       "      <td>22</td>\n",
       "      <td>2400</td>\n",
       "      <td>Nidorina</td>\n",
       "      <td>Solanus</td>\n",
       "      <td>1061.77</td>\n",
       "      <td>41751</td>\n",
       "      <td>Viersen</td>\n",
       "      <td>power</td>\n",
       "    </tr>\n",
       "    <tr>\n",
       "      <th>2</th>\n",
       "      <td>2022-02-19</td>\n",
       "      <td>2022-02-20</td>\n",
       "      <td>31</td>\n",
       "      <td>3600</td>\n",
       "      <td>Grookey</td>\n",
       "      <td>Purga</td>\n",
       "      <td>1562.37</td>\n",
       "      <td>31137</td>\n",
       "      <td>Hildesheim</td>\n",
       "      <td>power</td>\n",
       "    </tr>\n",
       "    <tr>\n",
       "      <th>6</th>\n",
       "      <td>2022-02-19</td>\n",
       "      <td>2022-02-20</td>\n",
       "      <td>26</td>\n",
       "      <td>5500</td>\n",
       "      <td>Appletun</td>\n",
       "      <td>Helm</td>\n",
       "      <td>2203.24</td>\n",
       "      <td>78054</td>\n",
       "      <td>Villingen-Schwenningen</td>\n",
       "      <td>power</td>\n",
       "    </tr>\n",
       "    <tr>\n",
       "      <th>9</th>\n",
       "      <td>2022-02-19</td>\n",
       "      <td>2022-02-20</td>\n",
       "      <td>22</td>\n",
       "      <td>250</td>\n",
       "      <td>Wimpod</td>\n",
       "      <td>Wambra</td>\n",
       "      <td>234.19</td>\n",
       "      <td>14480</td>\n",
       "      <td>Potsdam</td>\n",
       "      <td>power</td>\n",
       "    </tr>\n",
       "    <tr>\n",
       "      <th>13</th>\n",
       "      <td>2022-02-19</td>\n",
       "      <td>2022-02-20</td>\n",
       "      <td>13</td>\n",
       "      <td>500</td>\n",
       "      <td>Patrat</td>\n",
       "      <td>Pulenat</td>\n",
       "      <td>362.13</td>\n",
       "      <td>41462</td>\n",
       "      <td>Neuss</td>\n",
       "      <td>power</td>\n",
       "    </tr>\n",
       "  </tbody>\n",
       "</table>\n",
       "</div>"
      ],
      "text/plain": [
       "   date_valid_from date_valid_to  rank  consumption_range_kwh    tariff  \\\n",
       "0       2022-02-19    2022-02-20    22                   2400  Nidorina   \n",
       "2       2022-02-19    2022-02-20    31                   3600   Grookey   \n",
       "6       2022-02-19    2022-02-20    26                   5500  Appletun   \n",
       "9       2022-02-19    2022-02-20    22                    250    Wimpod   \n",
       "13      2022-02-19    2022-02-20    13                    500    Patrat   \n",
       "\n",
       "   supplier  price_year_eur  post_code                    city energy  \n",
       "0   Solanus         1061.77      41751                 Viersen  power  \n",
       "2     Purga         1562.37      31137              Hildesheim  power  \n",
       "6      Helm         2203.24      78054  Villingen-Schwenningen  power  \n",
       "9    Wambra          234.19      14480                 Potsdam  power  \n",
       "13  Pulenat          362.13      41462                   Neuss  power  "
      ]
     },
     "execution_count": 78,
     "metadata": {},
     "output_type": "execute_result"
    }
   ],
   "source": [
    "competitors_power_clean.head()"
   ]
  },
  {
   "cell_type": "code",
   "execution_count": null,
   "metadata": {},
   "outputs": [],
   "source": []
  }
 ],
 "metadata": {
  "kernelspec": {
   "display_name": "Python 3",
   "language": "python",
   "name": "python3"
  },
  "language_info": {
   "codemirror_mode": {
    "name": "ipython",
    "version": 3
   },
   "file_extension": ".py",
   "mimetype": "text/x-python",
   "name": "python",
   "nbconvert_exporter": "python",
   "pygments_lexer": "ipython3",
   "version": "3.8.8"
  },
  "vscode": {
   "interpreter": {
    "hash": "c98576d870c3f5b1f0221538c7cb17e737c352c1b9ee81683ce9287fe48ff9c0"
   }
  }
 },
 "nbformat": 4,
 "nbformat_minor": 4
}
